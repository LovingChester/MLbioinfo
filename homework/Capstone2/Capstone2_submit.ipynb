{
  "nbformat": 4,
  "nbformat_minor": 0,
  "metadata": {
    "colab": {
      "name": "Capstone2_submit.ipynb",
      "provenance": [],
      "collapsed_sections": [],
      "machine_shape": "hm"
    },
    "kernelspec": {
      "name": "python3",
      "display_name": "Python 3"
    },
    "language_info": {
      "name": "python"
    },
    "accelerator": "GPU"
  },
  "cells": [
    {
      "cell_type": "code",
      "execution_count": null,
      "metadata": {
        "colab": {
          "base_uri": "https://localhost:8080/"
        },
        "id": "-I6xUdTRnykl",
        "outputId": "ee7d314b-f7bc-48c4-e468-79eddbd91c38"
      },
      "outputs": [
        {
          "output_type": "stream",
          "name": "stdout",
          "text": [
            "Requirement already satisfied: torch in /usr/local/lib/python3.7/dist-packages (1.11.0+cu113)\n",
            "Requirement already satisfied: typing-extensions in /usr/local/lib/python3.7/dist-packages (from torch) (4.2.0)\n",
            "Collecting einops\n",
            "  Downloading einops-0.4.1-py3-none-any.whl (28 kB)\n",
            "Installing collected packages: einops\n",
            "Successfully installed einops-0.4.1\n",
            "Collecting sidechainnet\n",
            "  Downloading sidechainnet-0.7.4-py2.py3-none-any.whl (47.6 MB)\n",
            "\u001b[K     |████████████████████████████████| 47.6 MB 1.5 MB/s \n",
            "\u001b[?25hRequirement already satisfied: scipy in /usr/local/lib/python3.7/dist-packages (from sidechainnet) (1.4.1)\n",
            "Requirement already satisfied: pandas in /usr/local/lib/python3.7/dist-packages (from sidechainnet) (1.3.5)\n",
            "Requirement already satisfied: torch>=1.7 in /usr/local/lib/python3.7/dist-packages (from sidechainnet) (1.11.0+cu113)\n",
            "Collecting ProDy>=2.0\n",
            "  Downloading ProDy-2.1.2.tar.gz (12.0 MB)\n",
            "\u001b[K     |████████████████████████████████| 12.0 MB 63.3 MB/s \n",
            "\u001b[?25h  Installing build dependencies ... \u001b[?25l\u001b[?25hdone\n",
            "  Getting requirements to build wheel ... \u001b[?25l\u001b[?25hdone\n",
            "    Preparing wheel metadata ... \u001b[?25l\u001b[?25hdone\n",
            "Collecting py3Dmol\n",
            "  Downloading py3Dmol-1.8.0-py2.py3-none-any.whl (6.4 kB)\n",
            "Requirement already satisfied: numpy in /usr/local/lib/python3.7/dist-packages (from sidechainnet) (1.21.6)\n",
            "Requirement already satisfied: requests in /usr/local/lib/python3.7/dist-packages (from sidechainnet) (2.23.0)\n",
            "Requirement already satisfied: setuptools in /usr/local/lib/python3.7/dist-packages (from sidechainnet) (57.4.0)\n",
            "Requirement already satisfied: tqdm in /usr/local/lib/python3.7/dist-packages (from sidechainnet) (4.64.0)\n",
            "Collecting biopython\n",
            "  Downloading biopython-1.79-cp37-cp37m-manylinux_2_5_x86_64.manylinux1_x86_64.whl (2.3 MB)\n",
            "\u001b[K     |████████████████████████████████| 2.3 MB 56.1 MB/s \n",
            "\u001b[?25hRequirement already satisfied: pyparsing in /usr/local/lib/python3.7/dist-packages (from ProDy>=2.0->sidechainnet) (3.0.8)\n",
            "Requirement already satisfied: typing-extensions in /usr/local/lib/python3.7/dist-packages (from torch>=1.7->sidechainnet) (4.2.0)\n",
            "Requirement already satisfied: pytz>=2017.3 in /usr/local/lib/python3.7/dist-packages (from pandas->sidechainnet) (2022.1)\n",
            "Requirement already satisfied: python-dateutil>=2.7.3 in /usr/local/lib/python3.7/dist-packages (from pandas->sidechainnet) (2.8.2)\n",
            "Requirement already satisfied: six>=1.5 in /usr/local/lib/python3.7/dist-packages (from python-dateutil>=2.7.3->pandas->sidechainnet) (1.15.0)\n",
            "Requirement already satisfied: urllib3!=1.25.0,!=1.25.1,<1.26,>=1.21.1 in /usr/local/lib/python3.7/dist-packages (from requests->sidechainnet) (1.24.3)\n",
            "Requirement already satisfied: chardet<4,>=3.0.2 in /usr/local/lib/python3.7/dist-packages (from requests->sidechainnet) (3.0.4)\n",
            "Requirement already satisfied: idna<3,>=2.5 in /usr/local/lib/python3.7/dist-packages (from requests->sidechainnet) (2.10)\n",
            "Requirement already satisfied: certifi>=2017.4.17 in /usr/local/lib/python3.7/dist-packages (from requests->sidechainnet) (2021.10.8)\n",
            "Building wheels for collected packages: ProDy\n",
            "  Building wheel for ProDy (PEP 517) ... \u001b[?25l\u001b[?25hdone\n",
            "  Created wheel for ProDy: filename=ProDy-2.1.2-cp37-cp37m-linux_x86_64.whl size=10833899 sha256=7c26a22f84824e6fbda4c23067870b40730e8499473be149fbf36fbdfc531070\n",
            "  Stored in directory: /root/.cache/pip/wheels/e0/b5/8d/051404fbe4394c1b6336fd178bf639d3869353ce058bdbcd36\n",
            "Successfully built ProDy\n",
            "Installing collected packages: biopython, py3Dmol, ProDy, sidechainnet\n",
            "Successfully installed ProDy-2.1.2 biopython-1.79 py3Dmol-1.8.0 sidechainnet-0.7.4\n"
          ]
        },
        {
          "output_type": "stream",
          "name": "stderr",
          "text": [
            "@> ProDy is configured: verbosity='none'\n"
          ]
        }
      ],
      "source": [
        "!pip install torch\n",
        "!pip install einops\n",
        "!pip install sidechainnet\n",
        "import torch\n",
        "import torch.nn as nn\n",
        "import torch.nn.functional as F\n",
        "import torch.optim as optim\n",
        "import torch.utils.data as du\n",
        "from torchvision import transforms as TV\n",
        "import os\n",
        "import numpy as np\n",
        "import time\n",
        "from tqdm import tqdm\n",
        "from torch.utils import data\n",
        "import sidechainnet as scn\n",
        "import einops\n",
        "import gc\n",
        "from torch.utils.data import IterableDataset\n",
        "from torch.utils.data import DataLoader"
      ]
    },
    {
      "cell_type": "code",
      "source": [
        "device = f'cuda:0' if torch.cuda.is_available() else 'cpu'\n",
        "print(f\"using device: {device}\")"
      ],
      "metadata": {
        "colab": {
          "base_uri": "https://localhost:8080/"
        },
        "id": "seEqSfM3oX6q",
        "outputId": "881128cf-b633-4a09-8386-1174402e0e79"
      },
      "execution_count": null,
      "outputs": [
        {
          "output_type": "stream",
          "name": "stdout",
          "text": [
            "using device: cuda:0\n"
          ]
        }
      ]
    },
    {
      "cell_type": "markdown",
      "source": [
        "## Load CASP7 data as pytorch tensors"
      ],
      "metadata": {
        "id": "U-SpJLp_oe_T"
      }
    },
    {
      "cell_type": "code",
      "source": [
        "data = scn.load(casp_version=7, with_pytorch=\"dataloaders\", \n",
        "                seq_as_onehot=True, aggregate_model_input=False,\n",
        "               batch_size=30)"
      ],
      "metadata": {
        "colab": {
          "base_uri": "https://localhost:8080/"
        },
        "id": "Kwf1RsiRoZdU",
        "outputId": "0fec58be-8a19-4b55-d1bd-cebaedf5518a"
      },
      "execution_count": null,
      "outputs": [
        {
          "output_type": "stream",
          "name": "stdout",
          "text": [
            "SidechainNet(7, 30) was not found in ./sidechainnet_data.\n",
            "Downloading from https://pitt.box.com/shared/static/hjblmbwei2dkwhfjatttdmamznt1k9ef.pkl\n"
          ]
        },
        {
          "output_type": "stream",
          "name": "stderr",
          "text": [
            "Downloading file chunks (estimated): 19885chunk [02:09, 153.31chunk/s]                        \n"
          ]
        },
        {
          "output_type": "stream",
          "name": "stdout",
          "text": [
            "Downloaded SidechainNet to ./sidechainnet_data/sidechainnet_casp7_30.pkl.\n",
            "SidechainNet was loaded from ./sidechainnet_data/sidechainnet_casp7_30.pkl.\n"
          ]
        }
      ]
    },
    {
      "cell_type": "markdown",
      "source": [
        "## Creates features for a batch of sequences"
      ],
      "metadata": {
        "id": "VjT-Y6OkoipT"
      }
    },
    {
      "cell_type": "code",
      "source": [
        "def get_seq_features(batch):\n",
        "    '''\n",
        "    Take a batch of sequence info and return the sequence (one-hot),\n",
        "    evolutionary info and (phi, psi, omega) angles per position, \n",
        "    as well as position mask.\n",
        "    Also return the distance matrix, and distance mask.\n",
        "    '''\n",
        "    str_seqs = batch.str_seqs # seq in str format\n",
        "    seqs = batch.seqs # seq in one-hot format\n",
        "    int_seqs = batch.int_seqs # seq in int format\n",
        "    masks = batch.msks # which positions are valid\n",
        "    lengths = batch.lengths # seq length\n",
        "    evos = batch.evos # PSSM / evolutionary info\n",
        "    angs = batch.angs[:,:,0:2] # torsion angles: phi, psi\n",
        "    \n",
        "    # use coords to create distance matrix from c-beta\n",
        "    # except use c-alpha for G\n",
        "    # coords[:, 4, :] is c-beta, and coords[:, 1, :] is c-alpha\n",
        "    #coords = batch.crds # seq coord info (all-atom)\n",
        "    #batch_xyz = []\n",
        "    #for i in range(coords.shape[0]):\n",
        "    #    xyz = []\n",
        "    #    xyz = [coords[i][cpos+4,:] \n",
        "    #            if masks[i][cpos//14] and str_seqs[i][cpos//14] != 'G'\n",
        "    #            else coords[i][cpos+1,:]\n",
        "    #            for cpos in range(0, coords[i].shape[0]-1, 14)]\n",
        "    #    batch_xyz.append(torch.stack(xyz))\n",
        "    #batch_xyz = torch.stack(batch_xyz)\n",
        "    #print(batch_xyz.shape)\n",
        "    # now create pairwise distance matrix\n",
        "    #dmats = torch.cdist(batch_xyz, batch_xyz)\n",
        "    # create matrix mask (0 means i,j invalid)\n",
        "    #dmat_masks = torch.einsum('bi,bj->bij', masks, masks)\n",
        "\n",
        "    # carbon pos\n",
        "    carbon_pos = batch.crds\n",
        "    # pos: N, C-alpha, C\n",
        "    carbon_pos = einops.rearrange(carbon_pos, 'b (m n) c -> b m n c', n=14)\n",
        "    carbon_pos = carbon_pos[:,:,:3,:]\n",
        "    \n",
        "    \n",
        "    return seqs, evos, angs, masks, carbon_pos"
      ],
      "metadata": {
        "id": "Mr2fC6nrokpo"
      },
      "execution_count": null,
      "outputs": []
    },
    {
      "cell_type": "code",
      "source": [
        "#for idx, batch in enumerate(data['train']):\n",
        "#   seqs, evos, angs, masks, dmats, dmat_masks, carbon_poses = get_seq_features(batch)\n",
        "#   print(seqs.shape, evos.shape, angs.shape, dmats.shape, carbon_poses.shape)\n",
        "#   break"
      ],
      "metadata": {
        "id": "tolBxDHVpJsY"
      },
      "execution_count": null,
      "outputs": []
    },
    {
      "cell_type": "markdown",
      "source": [
        "## Pair Representation"
      ],
      "metadata": {
        "id": "z3_0wiaUor57"
      }
    },
    {
      "cell_type": "code",
      "source": [
        "class PairRep(nn.Module):\n",
        "    def __init__(self):\n",
        "        super(PairRep, self).__init__()\n",
        "\n",
        "        self.fcA = nn.Linear(20, 128)\n",
        "        self.fcB = nn.Linear(20, 128)\n",
        "    \n",
        "    def forward(self, seqs):\n",
        "        seq_len = seqs.size(dim=1)\n",
        "        A = self.fcA(seqs.to(torch.float))\n",
        "        B = self.fcB(seqs.to(torch.float))\n",
        "        As = A.repeat(seq_len, 1, 1, 1)\n",
        "        pair_rep = torch.transpose(As, 0, 1)\n",
        "        pair_rep = torch.transpose(pair_rep, 1, 2)\n",
        "\n",
        "        Bs = B.repeat(seq_len, 1, 1, 1)\n",
        "        pair_rep = pair_rep + torch.transpose(Bs, 0, 1)\n",
        "\n",
        "        return pair_rep"
      ],
      "metadata": {
        "id": "fyPYPPGpooyQ"
      },
      "execution_count": null,
      "outputs": []
    },
    {
      "cell_type": "markdown",
      "source": [
        "## MSI resp"
      ],
      "metadata": {
        "id": "7XnhiafroxN1"
      }
    },
    {
      "cell_type": "code",
      "source": [
        "class MSA(nn.Module):\n",
        "    def __init__(self, n_cluster):\n",
        "        super(MSA, self).__init__()\n",
        "\n",
        "        self.n_cluster = n_cluster\n",
        "        self.fcA = nn.Linear(21, 256)\n",
        "    \n",
        "    def forward(self, evos):\n",
        "        msa = self.fcA(evos)\n",
        "        msa = torch.unsqueeze(msa, dim=1)\n",
        "        msa = msa.repeat((1,self.n_cluster,1,1))\n",
        "\n",
        "        return msa"
      ],
      "metadata": {
        "id": "JPO_Kzp_owmg"
      },
      "execution_count": null,
      "outputs": []
    },
    {
      "cell_type": "markdown",
      "source": [
        "## Row Attention"
      ],
      "metadata": {
        "id": "vAuHKPZ1yZbW"
      }
    },
    {
      "cell_type": "code",
      "source": [
        "class RowAttention(nn.Module):\n",
        "    '''Self Attention'''\n",
        "\n",
        "    def __init__(self, d, dk,num_heads):\n",
        "        '''define WQ, WK, WV projection matrices:\n",
        "        d: d_model is the original model dimension\n",
        "        dk: projection dimension for query, keys and values\n",
        "        '''\n",
        "        super(RowAttention, self).__init__()\n",
        "        \n",
        "        self.d = d  # d_model\n",
        "        self.dk = dk  # d_k: projection dimension\n",
        "        self.B_map = nn.Linear(128,1, bias=False)\n",
        "        self.G_map = nn.Linear(256,1, bias=False)\n",
        "        self.sigmoid = nn.Sigmoid()\n",
        "        self.num_heads = num_heads  # number of attention heads\n",
        "        self.WQ = nn.Linear(self.d, self.dk * self.num_heads, bias=False)\n",
        "        self.WK = nn.Linear(self.d, self.dk * self.num_heads, bias=False)\n",
        "        self.WV = nn.Linear(self.d, self.dk * self.num_heads, bias=False)\n",
        "        self.WO = nn.Linear(self.dk * self.num_heads, self.d, bias=False)\n",
        "\n",
        "    def forward(self, msa_rep, pair_rep):\n",
        "        '''project the context onto key, query and value spaces and\n",
        "        return the final value vectors\n",
        "        '''\n",
        "        #print(msa_rep.shape) # batch, cluter, seq, msa=256 \n",
        "        #print(pair_rep.shape) # b,c, seq, z= 128\n",
        "        \n",
        "        # calculate b first\n",
        "        B = self.B_map(pair_rep).squeeze(3).unsqueeze(1).unsqueeze(1) # b,1,1,seq,seq\n",
        "        Gate = self.G_map(msa_rep)\n",
        "        Gate = self.sigmoid(Gate).unsqueeze(2) # b,1,1,gate,seq\n",
        "\n",
        "        # input shape: (batch_size, block_size, d)\n",
        "        # let batch_size=b, block_size=l, num_heads=h\n",
        "        Q = self.WQ(msa_rep)  # shape: b, c, seq, dk\n",
        "        K = self.WK(msa_rep)  # shape: b, c, seq, dk\n",
        "        V = self.WV(msa_rep)  # shape: b, c, seq, dk\n",
        "\n",
        "        # split Q, K, V into heads and dk, move heads up front; KT is transpose of K\n",
        "        Q = einops.rearrange(\n",
        "            Q, 'b c s (h dk)-> b c h s dk', h=self.num_heads\n",
        "        )  # size: (b c h s dk)\n",
        "        KT = einops.rearrange(\n",
        "            K, 'b c s (h dk)-> b c h dk s', h=self.num_heads\n",
        "        )  # size: (b c h dk s)\n",
        "        V = einops.rearrange(\n",
        "            V, 'b c s (h dk)-> b c h s dk', h=self.num_heads\n",
        "        )  # size: (b c h s dk)\n",
        "\n",
        "\n",
        "        QKT = torch.einsum('bchsd,bchdt->bchst', Q, KT)\n",
        "        # size: b, c, h, seq, seq\n",
        "        # attention matrix\n",
        "        # row specifies weights for the value vectors, row add up; to one\n",
        "        A = F.softmax(QKT / np.sqrt(self.dk) + B, dim=4)  # shape: b, c, h, seq, seq\n",
        "        V = torch.einsum('bchst,bchtd->bchsd', A, V) #shape: b, c, h, seq, dk\n",
        "        V = V * Gate\n",
        "        V = einops.rearrange(V, 'b c h s d-> b c s (h d)') #shape: b, c, seq, h*dk\n",
        "        output = self.WO(V)\n",
        "        return output"
      ],
      "metadata": {
        "id": "CuuL8Pwdoo5D"
      },
      "execution_count": null,
      "outputs": []
    },
    {
      "cell_type": "markdown",
      "source": [
        "## Column Attention"
      ],
      "metadata": {
        "id": "CZaIsIxMynCU"
      }
    },
    {
      "cell_type": "code",
      "source": [
        "class ColAttention(nn.Module):\n",
        "    '''Self Attention'''\n",
        "\n",
        "    def __init__(self, d, dk,num_heads):\n",
        "        '''define WQ, WK, WV projection matrices:\n",
        "        d: d_model is the original model dimension\n",
        "        dk: projection dimension for query, keys and values\n",
        "        '''\n",
        "        super(ColAttention, self).__init__()\n",
        "        \n",
        "        self.d = d  # d_model\n",
        "        self.dk = dk  # d_k: projection dimension\n",
        "        self.num_heads = num_heads  # number of attention heads\n",
        "        self.G_map = nn.Linear(256,1, bias=False)\n",
        "        self.sigmoid = nn.Sigmoid()\n",
        "        self.WQ = nn.Linear(self.d, self.dk * self.num_heads, bias=False)\n",
        "        self.WK = nn.Linear(self.d, self.dk * self.num_heads, bias=False)\n",
        "        self.WV = nn.Linear(self.d, self.dk * self.num_heads, bias=False)\n",
        "        self.WO = nn.Linear(self.dk * self.num_heads, self.d, bias=False)\n",
        "\n",
        "    def forward(self, msa_rep, pair_rep):\n",
        "        '''project the context onto key, query and value spaces and\n",
        "        return the final value vectors\n",
        "        '''\n",
        "        #print(msa_rep.shape) # batch, cluter, seq, msa=256 \n",
        "        #print(pair_rep.shape) # b,c, seq, z= 128\n",
        "        \n",
        "        msa_col_rep = einops.rearrange(msa_rep, 'b c s m-> b s c m')\n",
        "        # shape: b, seq, c, 256\n",
        "        Gate = self.G_map(msa_col_rep)\n",
        "        Gate = self.sigmoid(Gate).unsqueeze(2) # b,1,gate,seq\n",
        "\n",
        "        # input shape: (batch_size, block_size, d)\n",
        "        # let batch_size=b, block_size=l, num_heads=h\n",
        "        Q = self.WQ(msa_col_rep)  # shape: b, seq, c, h*dk\n",
        "        K = self.WK(msa_col_rep)  # shape: b, seq, c, h*dk\n",
        "        V = self.WV(msa_col_rep)  # shape: b, seq, c, h*dk\n",
        "\n",
        "        \n",
        "        # split Q, K, V into heads and dk, move heads up front; KT is transpose of K\n",
        "        Q = einops.rearrange(\n",
        "            Q, 'b seq c (h dk)-> b seq h c dk', h=self.num_heads\n",
        "        )  # size: (b seq h c dk)\n",
        "        KT = einops.rearrange(\n",
        "            K, 'b seq c (h dk)-> b seq h dk c', h=self.num_heads\n",
        "        )  # size: (b seq h dk c)\n",
        "        V = einops.rearrange(\n",
        "            V, 'b seq c (h dk)-> b seq h c dk', h=self.num_heads\n",
        "        )  # size: (b seq h c dk)\n",
        "\n",
        "        QKT = torch.einsum('bshcd,bshdm->bshcm', Q, KT)\n",
        "        # shape: b, seq, h, c, c\n",
        "        # attention matrix\n",
        "        # row specifies weights for the value vectors, row add up; to one\n",
        "        A = F.softmax(QKT / np.sqrt(self.dk), dim=4)  # shape: b, seq, h, c, c\n",
        "        # new value representation\n",
        "        V = torch.einsum('bshcd,bshde->bshce', A, V) #shape: b, seq, h, c, dk\n",
        "        V - V * Gate #shape: b, seq, h, c, dk \n",
        "        V = einops.rearrange(V, 'b s h c d-> b c s (h d)') #shape: b, c, seq, h*dk\n",
        "        output = self.WO(V)\n",
        "        return output\n"
      ],
      "metadata": {
        "id": "YMA_aJ3uyqcy"
      },
      "execution_count": null,
      "outputs": []
    },
    {
      "cell_type": "markdown",
      "source": [
        "## MSA Information"
      ],
      "metadata": {
        "id": "v_b1n-ydy-yY"
      }
    },
    {
      "cell_type": "code",
      "source": [
        "class MSA_Information(nn.Module):\n",
        "    '''Separate Headed Self Attention: List of Attention Heads\n",
        "    This is a straightforward implementation of the multiple heads.\n",
        "    We have separate WQ, WK and WV matrices, one per head.'''\n",
        "\n",
        "    def __init__(self):\n",
        "        '''create separate heads:\n",
        "        d: d_model dimension\n",
        "        dk: projection dimension for query, keys and values\n",
        "        num_heads: number of attention heads\n",
        "        '''\n",
        "        super(MSA_Information, self).__init__()\n",
        "        self.row_attention = RowAttention(256,32,8)\n",
        "        self.col_attention = ColAttention(256,32,8)\n",
        "        #trans\n",
        "        self.project_up = nn.Linear(256,256*4, bias=False)\n",
        "        self.relu = nn.ReLU()\n",
        "        self.project_down = nn.Linear(256*4,256, bias=False)\n",
        "        #temp_project_down\n",
        "        self.project_c = nn.Linear(256,4, bias=False) \n",
        "        self.project_z = nn.Linear(4*4,128, bias=False) # use 8 instead of 32\n",
        "        \n",
        "    def forward(self, msa_rep, pair_rep):\n",
        "        output_row = self.row_attention(msa_rep, pair_rep)\n",
        "        output = msa_rep + output_row\n",
        "        output_col = self.col_attention(output, pair_rep)\n",
        "        output = output_col + output\n",
        "        # trans\n",
        "        output_trans = self.project_up(output)\n",
        "        output_trans = self.relu(output_trans)\n",
        "        output_trans = self.project_down(output_trans)\n",
        "        output = output_trans + output\n",
        "        M = output\n",
        "        output1 = self.project_c(output)  # project c to calculate outer product\n",
        "\n",
        "        outer_product = torch.einsum('bcxm,bcyn->bcxymn', output1, output1) \n",
        "        #5*16*256*256*32*32\n",
        "        outer_product = torch.mean(outer_product,axis=1)\n",
        "        outer_product = einops.rearrange(outer_product, 'a b c i j-> a b c (i j)')\n",
        "        #print(outer_product.shape)\n",
        "        outer_product = self.project_z(outer_product)\n",
        "        outer_product = outer_product + pair_rep\n",
        "        return outer_product, M"
      ],
      "metadata": {
        "id": "kA7MxA062cll"
      },
      "execution_count": null,
      "outputs": []
    },
    {
      "cell_type": "markdown",
      "source": [
        "## Triangular Multiplicative Update"
      ],
      "metadata": {
        "id": "vgMOx70WBBkY"
      }
    },
    {
      "cell_type": "code",
      "source": [
        "class Tri_Multi(nn.Module):\n",
        "    def __init__(self, c_z, c, mode):\n",
        "        super(Tri_Multi, self).__init__()\n",
        "\n",
        "        self.A = nn.Linear(c_z, c, bias=False)\n",
        "        self.B = nn.Linear(c_z, c, bias=False)\n",
        "        self.G_A = nn.Linear(c_z, c, bias=False)\n",
        "        self.G_B = nn.Linear(c_z, c, bias=False)\n",
        "        self.G = nn.Linear(c_z, c, bias=False)\n",
        "        # project back to original dim\n",
        "        self.pb = nn.Linear(c, c_z, bias=False)\n",
        "        self.mode = mode\n",
        "\n",
        "    def forward(self, x):\n",
        "        # input dim: B x Nseq x Nseq x c_z\n",
        "        new_z = torch.clone(x)\n",
        "\n",
        "        A = self.A(x)\n",
        "        B = self.B(x)\n",
        "        if self.mode == 'in':\n",
        "            A = torch.transpose(A, 1, 2)\n",
        "            B = torch.transpose(B, 1, 2)\n",
        "\n",
        "        G_A = torch.sigmoid(self.G_A(x))\n",
        "        G_B = torch.sigmoid(self.G_B(x))\n",
        "        G = torch.sigmoid(self.G(x))\n",
        "\n",
        "        A = A * G_A\n",
        "        B = B * G_B\n",
        "\n",
        "        # compute the pair wise element wise\n",
        "        ele_mult = torch.einsum('bijk,bajk->biajk', A, B)\n",
        "        new_z = torch.sum(ele_mult, dim=3)\n",
        "\n",
        "        new_z = self.pb(new_z)\n",
        "        #print(new_z.shape)\n",
        "\n",
        "        return new_z"
      ],
      "metadata": {
        "id": "r-hDCIF-BJ-6"
      },
      "execution_count": null,
      "outputs": []
    },
    {
      "cell_type": "markdown",
      "source": [
        "## Triangular Attention"
      ],
      "metadata": {
        "id": "qr3PWul8BarY"
      }
    },
    {
      "cell_type": "code",
      "source": [
        "class MultiHead_Tri_Attn(nn.Module):\n",
        "    def __init__(self, c_z, c, n_heads, mode):\n",
        "        super(MultiHead_Tri_Attn, self).__init__()\n",
        "\n",
        "        self.W_Q = nn.Linear(c_z, c*n_heads, bias=False)\n",
        "        self.W_K = nn.Linear(c_z, c*n_heads, bias=False)\n",
        "        self.W_V = nn.Linear(c_z, c*n_heads, bias=False)\n",
        "        self.W_G = nn.Linear(c_z, c*n_heads, bias=False)\n",
        "        self.W_O = nn.Linear(c*n_heads, c_z, bias=False)\n",
        "        self.W_B = nn.Linear(c_z, 1*n_heads, bias=False)\n",
        "\n",
        "        self.n_heads = n_heads\n",
        "        self.c = c\n",
        "        self.mode = mode\n",
        "\n",
        "    def forward(self, x):\n",
        "        # input dim: B x Nseq x Nseq x c_z\n",
        "        Q = self.W_Q(x) # size: (B, Nseq, Nseq, n_heads*c)\n",
        "        K = self.W_K(x) # size: (B, Nseq, Nseq, n_heads*c)\n",
        "        V = self.W_V(x) # size: (B, Nseq, Nseq, n_heads*c)\n",
        "        G = self.W_G(x) # size: (B, Nseq, Nseq, n_heads*c)\n",
        "        B = self.W_B(x) # size: (B, Nseq, Nseq, n_heads*1)\n",
        "\n",
        "        if self.mode == 'end':\n",
        "            K = torch.transpose(K, 1, 2)\n",
        "\n",
        "        Q = einops.rearrange(\n",
        "            Q, 'b n s (h c) -> b n h s c', h = self.n_heads\n",
        "        )\n",
        "        KT = einops.rearrange(\n",
        "            K, 'b n s (h c) -> b n h c s', h = self.n_heads\n",
        "        )\n",
        "        V = einops.rearrange(\n",
        "            V, 'b n s (h c) -> b n h s c', h = self.n_heads\n",
        "        )\n",
        "        G = einops.rearrange(\n",
        "            G, 'b n s (h c) -> b n h s c', h = self.n_heads\n",
        "        )\n",
        "\n",
        "        N_seq = x.size(dim=1)\n",
        "        B = einops.rearrange(\n",
        "            B, 'b n s (h c) -> b h n s c', h = self.n_heads\n",
        "        )\n",
        "        B = torch.squeeze(B)\n",
        "        B = B.repeat(N_seq, 1, 1, 1, 1)\n",
        "        B = einops.rearrange(\n",
        "            B, 'x b h n s -> b x h n s', h = self.n_heads\n",
        "        )\n",
        "\n",
        "        QKT = torch.einsum('bnhij,bnhjk->bnhik', Q, KT)\n",
        "        A = F.softmax((QKT + B) / np.sqrt(self.c), dim=4)\n",
        "\n",
        "        V = torch.einsum('bnhij,bnhjk->bnhik', A, V)\n",
        "        V = V * G\n",
        "        V = einops.rearrange(V, 'b n h s c -> b n s (h c)')\n",
        "\n",
        "        x = self.W_O(V)\n",
        "\n",
        "        return x"
      ],
      "metadata": {
        "id": "rvE2llOgBeuW"
      },
      "execution_count": null,
      "outputs": []
    },
    {
      "cell_type": "markdown",
      "source": [
        "## Triangular Attention Block"
      ],
      "metadata": {
        "id": "gSmN8IGpBt7I"
      }
    },
    {
      "cell_type": "code",
      "source": [
        "class Tri_Attn_Block(nn.Module):\n",
        "    def __init__(self):\n",
        "        super(Tri_Attn_Block, self).__init__()\n",
        "\n",
        "        self.tri_in = Tri_Multi(128, 16, 'out')\n",
        "        self.tri_out = Tri_Multi(128, 16, 'in')\n",
        "        self.tri_start = MultiHead_Tri_Attn(128, 16, 4, 'start')\n",
        "        self.tri_end = MultiHead_Tri_Attn(128, 16, 4, 'end')\n",
        "        self.trans_up = nn.Linear(128, 128*4, bias=False)\n",
        "        self.trans_down = nn.Linear(128*4, 128, bias=False)\n",
        "    \n",
        "    def forward(self, x):\n",
        "        tri_in_out = self.tri_in(x)\n",
        "        x = x + tri_in_out\n",
        "        tri_out_out = self.tri_out(x)\n",
        "        x = x + tri_out_out\n",
        "        tri_start_out = self.tri_start(x)\n",
        "        x = x + tri_start_out\n",
        "        tri_end_out = self.tri_end(x)\n",
        "        x = x + tri_end_out\n",
        "        x = self.trans_up(x)\n",
        "        x = self.trans_down(x)\n",
        "\n",
        "        return x"
      ],
      "metadata": {
        "id": "IFPDYu_mBv2C"
      },
      "execution_count": null,
      "outputs": []
    },
    {
      "cell_type": "markdown",
      "source": [
        "## Alphafold 2"
      ],
      "metadata": {
        "id": "sQASnY54B5eO"
      }
    },
    {
      "cell_type": "code",
      "source": [
        "class Alphafold2(nn.Module):\n",
        "    def __init__(self,calculate_angle=True):\n",
        "        super(Alphafold2, self).__init__()\n",
        "\n",
        "        self.pr = PairRep()\n",
        "        self.msa = MSA(16)\n",
        "        self.msa_info = MSA_Information()\n",
        "        self.tri_attn_b = Tri_Attn_Block()\n",
        "        self.fc = nn.Linear(128, 64, bias=False)\n",
        "        self.fc_angle = nn.Linear(128,1296,bias=False)\n",
        "        self.max_pool_i = nn.MaxPool2d(kernel_size=(256,1))\n",
        "        self.max_pool_j = nn.MaxPool2d(kernel_size=(1,256))\n",
        "        self.calculate_angle = calculate_angle\n",
        "\n",
        "    def forward(self, seq, evo):\n",
        "        pair_rep = self.pr(seq)\n",
        "        msa_rep = self.msa(evo)\n",
        "        Z, M = self.msa_info(msa_rep, pair_rep)\n",
        "        Z = self.tri_attn_b(Z)\n",
        "        if self.calculate_angle == True:\n",
        "          Angle = self.fc_angle(Z)\n",
        "          Angle = einops.rearrange(Angle, 'b s t c -> b c s t')\n",
        "          Angle_i = self.max_pool_i(Angle).squeeze(2)\n",
        "          Angle_j = self.max_pool_j(Angle).squeeze(3)\n",
        "          Angle_out = torch.cat((Angle_i, Angle_j),dim=2)\n",
        "\n",
        "          return M, Z, Angle_out\n",
        "        else:\n",
        "          return M, Z"
      ],
      "metadata": {
        "id": "jIO2VsO1B6Nz"
      },
      "execution_count": null,
      "outputs": []
    },
    {
      "cell_type": "markdown",
      "source": [
        "## Capstone 2: Regular Attention & 3D Attention"
      ],
      "metadata": {
        "id": "E1NFumhRH0VS"
      }
    },
    {
      "cell_type": "code",
      "source": [
        "class RegAttention(nn.Module):\n",
        "    def __init__(self, c_m, c, n_heads):\n",
        "        super(RegAttention, self).__init__()\n",
        "\n",
        "        self.c_m = c_m\n",
        "        self.c = c\n",
        "        self.n_heads = n_heads\n",
        "\n",
        "        self.W_Q = nn.Linear(c_m, c*n_heads, bias=False)\n",
        "        self.W_K = nn.Linear(c_m, c*n_heads, bias=False)\n",
        "        #self.W_V = nn.Linear(c_m, c*n_heads, bias=False)\n",
        "        #self.W_O = nn.Linear(c*n_heads, c_m, bias=False)\n",
        "\n",
        "    def forward(self, x):\n",
        "        # input shape: (batch_size, Nseq, c_m)\n",
        "        # let batch_size=b, Nseq=l, n_heads=h, c_m=d\n",
        "        Q = self.W_Q(x)  # size: (b, l, h*c)\n",
        "        K = self.W_K(x)  # size: (b, l, h*c)\n",
        "        #V = self.W_V(x)  # size: (b, l, h*c)\n",
        "\n",
        "        # split Q, K, V into heads and c, move heads up front; KT is transpose of K\n",
        "        Q = einops.rearrange(\n",
        "            Q, 'b l (h c)-> b h l c', h=self.n_heads\n",
        "        )  # size: (b, h, l, c)\n",
        "        KT = einops.rearrange(\n",
        "            K, 'b l (h c)-> b h c l', h=self.n_heads\n",
        "        )  # size: (b, h, c, l)\n",
        "        # V = einops.rearrange(\n",
        "        #     V, 'b l (h c)-> b h l c', h=self.n_heads\n",
        "        # )  # size: (b, h, l, c)\n",
        "\n",
        "        # compute Q x K.T, output is (b, h, l, l)\n",
        "        QKT = torch.einsum('bhik,bhkj->bhij', Q, KT)\n",
        "        A = F.softmax(QKT / np.sqrt(self.c), dim=3)  # softmax along last dim\n",
        "        #print(A.shape)\n",
        "\n",
        "        return A\n",
        "\n",
        "class ThreeDAttention(nn.Module):\n",
        "    def __init__(self, c_m, c, c_v, n_heads):\n",
        "        super(ThreeDAttention, self).__init__()\n",
        "\n",
        "        self.W_Q_x = nn.Linear(c_m, c, bias=False)\n",
        "        self.W_Q_y = nn.Linear(c_m, c, bias=False)\n",
        "        self.W_Q_z = nn.Linear(c_m, c, bias=False)\n",
        "        self.W_K_x = nn.Linear(c_m, c, bias=False)\n",
        "        self.W_K_y = nn.Linear(c_m, c, bias=False)\n",
        "        self.W_K_z = nn.Linear(c_m, c, bias=False)\n",
        "        # self.W_V_x = nn.Linear(c_m, c_v, bias=False)\n",
        "        # self.W_V_y = nn.Linear(c_m, c_v, bias=False)\n",
        "        # self.W_V_z = nn.Linear(c_m, c_v, bias=False)\n",
        "\n",
        "        self.n_heads = n_heads\n",
        "\n",
        "    def forward(self, x, T):\n",
        "        # input shape: (batch_size, Nseq, c_m)\n",
        "        seq_len = x.size(dim=1)\n",
        "\n",
        "        Q_x = self.W_Q_x(x)\n",
        "        Q_x = torch.unsqueeze(Q_x, dim=3)\n",
        "        Q_y = self.W_Q_y(x)\n",
        "        Q_y = torch.unsqueeze(Q_y, dim=3)\n",
        "        Q_z = self.W_Q_z(x)\n",
        "        Q_z = torch.unsqueeze(Q_z, dim=3)\n",
        "        # Q 3d\n",
        "        Q = torch.cat((Q_x, Q_y, Q_z), dim=3)\n",
        "        #print(Q.shape)\n",
        "\n",
        "        K_x = self.W_K_x(x)\n",
        "        K_x = torch.unsqueeze(K_x, dim=3)\n",
        "        K_y = self.W_K_y(x)\n",
        "        K_y = torch.unsqueeze(K_y, dim=3)\n",
        "        K_z = self.W_K_z(x)\n",
        "        K_z = torch.unsqueeze(K_z, dim=3)\n",
        "        # K 3d\n",
        "        K = torch.cat((K_x, K_y, K_z), dim=3)\n",
        "        #print(K.shape)\n",
        "\n",
        "        Q = torch.transpose(Q, 2, 3)\n",
        "        K = torch.transpose(K, 2, 3)\n",
        "        T_O = T[:,:,:,3:]\n",
        "        T_O = torch.transpose(T_O, 2, 3)\n",
        "        TQ = torch.einsum('bijk,bikz->bijz', T[:,:,:,0:3], Q)\n",
        "        TK = torch.einsum('bijk,bikz->bijz', T[:,:,:,0:3], K)\n",
        "        TQ = torch.transpose(TQ, 2, 3) + T_O\n",
        "        TK = torch.transpose(TK, 2, 3) + T_O\n",
        "        \n",
        "        TQs = TQ.repeat(seq_len, 1, 1, 1, 1)\n",
        "        TQs = einops.rearrange(TQs, 'sl b a c d -> b a sl c d')\n",
        "\n",
        "        TKs = TK.repeat(seq_len, 1, 1, 1, 1)\n",
        "        TKs = einops.rearrange(TKs, 'sl b a c d -> b sl a c d')\n",
        "\n",
        "        diff = torch.norm(TQs - TKs, dim=4)\n",
        "        A = torch.sum(diff, dim=3)\n",
        "\n",
        "        A = A.repeat(self.n_heads, 1, 1, 1)\n",
        "        A = torch.transpose(A, 0, 1)\n",
        "        #print(A.shape)\n",
        "\n",
        "        return A\n",
        "\n",
        "class TotalAttention(nn.Module):\n",
        "    def __init__(self, c_m=384, c_reg=16, c_thd=4, c_v=8, n_heads=12):\n",
        "        super(TotalAttention, self).__init__()\n",
        "\n",
        "        self.reg_attn = RegAttention(c_m, c_reg, n_heads)\n",
        "        self.thd_attn = ThreeDAttention(c_m, c_thd, c_v, n_heads)\n",
        "\n",
        "        self.W_V = nn.Linear(c_m, c_reg*n_heads, bias=False)\n",
        "\n",
        "        self.W_O = nn.Linear(1728, 384, bias=False)\n",
        "\n",
        "        self.W_V_x = nn.Linear(c_m, c_v, bias=False)\n",
        "        self.W_V_y = nn.Linear(c_m, c_v, bias=False)\n",
        "        self.W_V_z = nn.Linear(c_m, c_v, bias=False)\n",
        "\n",
        "        self.n_heads = n_heads\n",
        "    \n",
        "    def forward(self, x, T, Z):\n",
        "        A_reg = self.reg_attn(x)\n",
        "        A_thd = self.thd_attn(x, T)\n",
        "        A = A_reg + A_thd\n",
        "        V = self.W_V(x)  # size: (b, l, h*c)\n",
        "        V = einops.rearrange(\n",
        "            V, 'b l (h c)-> b h l c', h=self.n_heads\n",
        "        )  # size: (b, h, l, c)\n",
        "\n",
        "        # compute regular value\n",
        "        V_reg = torch.einsum('bhik,bhkj->bhij', A, V)\n",
        "        #V_reg = einops.rearrange(V_reg, 'b h l c -> b l (h c)')\n",
        "        #print(V_reg.shape)\n",
        "\n",
        "        # compute pair info\n",
        "        A_new = torch.unsqueeze(A, dim=4)\n",
        "        Z_new = torch.unsqueeze(Z, dim=1)\n",
        "        AZ = torch.einsum('bhijk,bkjmn->bhimn', A_new, Z_new)\n",
        "        V_pair = torch.sum(AZ, dim=2)\n",
        "        #print(V_pair.shape)\n",
        "\n",
        "        V = torch.cat((V_reg, V_pair), dim=3)\n",
        "        V = einops.rearrange(V, 'b h l c -> b l (h c)')\n",
        "        #print(V.shape)\n",
        "\n",
        "        # compute local ref frame\n",
        "        # V_x = self.W_V_x(x)\n",
        "        # V_x = torch.unsqueeze(V_x, dim=3)\n",
        "        # V_y = self.W_V_y(x)\n",
        "        # V_y = torch.unsqueeze(V_y, dim=3)\n",
        "        # V_z = self.W_V_z(x)\n",
        "        # V_z = torch.unsqueeze(V_z, dim=3)\n",
        "        # # V 3d\n",
        "        # V = torch.cat((V_x, V_y, V_z), dim=3)\n",
        "        # print(V.shape)\n",
        "\n",
        "        O = self.W_O(V)\n",
        "\n",
        "        return O"
      ],
      "metadata": {
        "id": "x0zTJaGBH5Bc"
      },
      "execution_count": null,
      "outputs": []
    },
    {
      "cell_type": "markdown",
      "source": [
        "## Transition"
      ],
      "metadata": {
        "id": "n9RToo9NLzEO"
      }
    },
    {
      "cell_type": "code",
      "source": [
        "class Transition(nn.Module):\n",
        "  def __init__(self):\n",
        "    super(Transition, self).__init__()\n",
        "    self.lr1 = nn.Linear(384,384) \n",
        "    self.relu = nn.ReLU()\n",
        "    self.lr2 = nn.Linear(384,384) \n",
        "    self.lr3 = nn.Linear(384,384) \n",
        "    self.lr4 = nn.Linear(128,4)\n",
        "    \n",
        "      \n",
        "  def forward(self, s):\n",
        "    s = self.lr1(s) \n",
        "    s = self.relu(s)\n",
        "    s = self.lr2(s)\n",
        "    s = self.relu(s)\n",
        "    s = self.lr3(s)\n",
        "    return s\n",
        "\n",
        "#backbone = Transition().to(device)\n",
        "#a = backbone(S)\n",
        "#a.shape"
      ],
      "metadata": {
        "id": "UArafG0fL04C"
      },
      "execution_count": null,
      "outputs": []
    },
    {
      "cell_type": "markdown",
      "source": [
        "## Backbone Update"
      ],
      "metadata": {
        "id": "sPVgMHDpLXyO"
      }
    },
    {
      "cell_type": "code",
      "source": [
        "class BackboneUpdate(nn.Module):\n",
        "  def __init__(self):\n",
        "    super(BackboneUpdate, self).__init__()\n",
        "    self.projection = nn.Linear(384,6) \n",
        "      \n",
        "  def forward(self, S, batch_size=1, n_seq=256):\n",
        "      \n",
        "    #print(outer_product.shape)\n",
        "    backbone_info = self.projection(S)\n",
        "    T = torch.zeros(batch_size,n_seq,3,4).to(device)\n",
        "    Q = torch.ones(batch_size,n_seq,4).to(device)\n",
        "\n",
        "    Q[:,:,1:] = backbone_info[:,:,:3]\n",
        "    Q = Q / torch.sqrt( torch.sum(Q*Q,dim=2,keepdim=True))\n",
        "    q0 = Q[:,:,0]\n",
        "    q1 = Q[:,:,1]\n",
        "    q2 = Q[:,:,2]\n",
        "    q3 = Q[:,:,3]\n",
        "\n",
        "    # First row of the rotation matrix\n",
        "    T[:,:,0,0] = 2 * (q0 * q0 + q1 * q1) - 1\n",
        "    T[:,:,0,1] = 2 * (q1 * q2 - q0 * q3)\n",
        "    T[:,:,0,2] = 2 * (q1 * q3 + q0 * q2)\n",
        "      \n",
        "    # Second row of the rotation matrix\n",
        "    T[:,:,1,0] = 2 * (q1 * q2 + q0 * q3)\n",
        "    T[:,:,1,1] = 2 * (q0 * q0 + q2 * q2) - 1\n",
        "    T[:,:,1,2] = 2 * (q2 * q3 - q0 * q1)\n",
        "      \n",
        "    # Third row of the rotation matrix\n",
        "    T[:,:,2,0] = 2 * (q1 * q3 - q0 * q2)\n",
        "    T[:,:,2,1] = 2 * (q2 * q3 + q0 * q1)\n",
        "    T[:,:,2,2] = 2 * (q0 * q0 + q3 * q3) - 1\n",
        "    T[:,:,:,3] = backbone_info[:,:,3:]\n",
        "    return T\n",
        "\n",
        "#backbone = BackboneUpdate(1,209).to(device)\n",
        "#T = backbone(S)"
      ],
      "metadata": {
        "id": "ojcSy7j8LG8u"
      },
      "execution_count": null,
      "outputs": []
    },
    {
      "cell_type": "markdown",
      "source": [
        "## Torsion Angle"
      ],
      "metadata": {
        "id": "U9p8LjdMLfEi"
      }
    },
    {
      "cell_type": "code",
      "source": [
        "class TorsionAngle(nn.Module):\n",
        "  def __init__(self):\n",
        "    super(TorsionAngle, self).__init__()\n",
        "    self.lr1 = nn.Linear(384,128) \n",
        "    self.lr1_initial = nn.Linear(384,128) \n",
        "    self.relu = nn.ReLU()\n",
        "    self.lr20 = nn.Linear(128,128) \n",
        "    self.lr21 = nn.Linear(128,128) \n",
        "    self.lr30 = nn.Linear(128,128) \n",
        "    self.lr31 = nn.Linear(128,128) \n",
        "    self.lr4 = nn.Linear(128,4)\n",
        "    \n",
        "      \n",
        "  def forward(self, s, s_initial):\n",
        "      \n",
        "    a = self.lr1(s) + self.lr1(s_initial)\n",
        "    a = a + self.lr21(self.relu(self.lr20(self.relu(a))))\n",
        "    a = a + self.lr31(self.relu(self.lr30(self.relu(a))))\n",
        "    a = self.lr4(self.relu(a))\n",
        "\n",
        "    return a\n",
        "\n",
        "#backbone = TorsionAngle().to(device)\n",
        "#a = backbone(S,S)\n",
        "#a.shape"
      ],
      "metadata": {
        "id": "8cPmOruaLj01"
      },
      "execution_count": null,
      "outputs": []
    },
    {
      "cell_type": "markdown",
      "source": [
        "# Get position from cords"
      ],
      "metadata": {
        "id": "jpq1iupva979"
      }
    },
    {
      "cell_type": "code",
      "source": [
        "def rigidFrom3Points(carbon_pos):\n",
        "    # input shape: b*Nseq*3*3\n",
        "\n",
        "    x1 = carbon_pos[:,:,0,:] # N\n",
        "    x2 = carbon_pos[:,:,1,:] # carbon alpha\n",
        "    x3 = carbon_pos[:,:,2,:] # carbon\n",
        "\n",
        "    v1 = x3 - x2 # b*Nseq*3\n",
        "    v2 = x1 - x2 # b*Nseq*3\n",
        "    e1 = v1 / torch.norm(v1, dim=2).unsqueeze(dim=2) # b*Nseq*3\n",
        "\n",
        "    e1_us = torch.unsqueeze(e1, dim=2)\n",
        "    v2_us = torch.unsqueeze(v2, dim=3)\n",
        "\n",
        "    # print(e1.shape)\n",
        "    # print(v2.shape)\n",
        "\n",
        "    e1v2 = torch.einsum('bijk,bikl->bijl', e1_us, v2_us)\n",
        "    e1v2 = torch.squeeze(e1v2, dim=3)\n",
        "\n",
        "    #print(e1v2.shape)\n",
        "\n",
        "    u2 = v2 - e1 * e1v2\n",
        "    e2 = u2 / torch.norm(u2, dim=2).unsqueeze(dim=2)\n",
        "    e3 = torch.cross(e1, e2, dim=2)\n",
        "\n",
        "    e1 = torch.unsqueeze(e1, dim=2)\n",
        "    e2 = torch.unsqueeze(e2, dim=2)\n",
        "    e3 = torch.unsqueeze(e3, dim=2)\n",
        "\n",
        "    R = torch.cat((e1, e2, e3), dim=2)\n",
        "    R = torch.transpose(R, 2, 3)\n",
        "\n",
        "    t = torch.unsqueeze(x2, dim=3)\n",
        "\n",
        "    return R, t"
      ],
      "metadata": {
        "id": "NWlpyZgoQglx"
      },
      "execution_count": null,
      "outputs": []
    },
    {
      "cell_type": "markdown",
      "source": [
        "# FAPE Loss"
      ],
      "metadata": {
        "id": "1KTHGNwVbCKe"
      }
    },
    {
      "cell_type": "code",
      "source": [
        "def computeFAPE(T, x, T_true, x_true):\n",
        "    # T and T_true: B*Nseq*3*3\n",
        "    # x and x_true: B*Nseq*3*1\n",
        "\n",
        "    # R = T[:,:,:,0:3] # B*Nseq*3*3\n",
        "    # t = T[:,:,:,3:] # B*Nseq*3*1\n",
        "\n",
        "    seq_len = T.shape[1]\n",
        "\n",
        "    T_inv = torch.linalg.pinv(T)\n",
        "    Ts = T_inv.repeat(1, seq_len, 1, 1) # B*(Nseq*Nseq)*3*3\n",
        "    Ts = einops.rearrange(Ts, 'b (a c) d e -> b c a d e', a = seq_len)\n",
        "    \n",
        "    xs = x.repeat(1, seq_len, 1, 1) # B*(Nseq*Nseq)*3*1\n",
        "    xs = einops.rearrange(xs, 'b (a c) d e -> b a c d e', a = seq_len)\n",
        "\n",
        "    Txs = torch.einsum('abcde,abcef->abcdf', Ts, xs) + xs\n",
        "\n",
        "    T_inv_true = torch.linalg.pinv(T_true)\n",
        "    Ts_true = T_inv_true.repeat(1, seq_len, 1, 1) # B*(Nseq*Nseq)*3*3\n",
        "    Ts_true = einops.rearrange(Ts_true, 'b (a c) d e -> b c a d e', a = seq_len)\n",
        "    \n",
        "    xs_true = x_true.repeat(1, seq_len, 1, 1) # B*(Nseq*Nseq)*3*1\n",
        "    xs_true = einops.rearrange(xs_true, 'b (a c) d e -> b a c d e', a = seq_len)\n",
        "\n",
        "    Txs_true = torch.einsum('abcde,abcef->abcdf', Ts_true, xs_true) + xs_true\n",
        "\n",
        "    dist = torch.sqrt(torch.norm(Txs - Txs_true, dim=3) ** 2 + 10 ** -8)\n",
        "    dist = torch.squeeze(dist)\n",
        "\n",
        "  \n",
        "    dist = torch.clamp(dist,max=10)\n",
        "    \n",
        "    #loss = (1 / 10) * torch.mean(torch.mean(dist, dim=2), dim=1)\n",
        "    loss = (1 / 10) * torch.mean(dist)\n",
        "    return torch.sum(loss)"
      ],
      "metadata": {
        "id": "Dj4thOgVO3be"
      },
      "execution_count": null,
      "outputs": []
    },
    {
      "cell_type": "markdown",
      "source": [
        "# Torsion Loss"
      ],
      "metadata": {
        "id": "6ZtfgFfcbEFE"
      }
    },
    {
      "cell_type": "code",
      "source": [
        "def TorsionLoss(alpha,angs_true):\n",
        "  # torsion angle\n",
        "  phi = alpha[:,:,:2]\n",
        "  psi = alpha[:,:,2:]\n",
        "  phi_true = torch.ones_like(angs_true).to(device)\n",
        "  psi_true = torch.ones_like(angs_true).to(device)\n",
        "  phi_true[:,:,0] = torch.atan(angs_true[:,:,0])\n",
        "  psi_true[:,:,0] = torch.atan(angs_true[:,:,1])\n",
        "\n",
        "  l_phi = torch.linalg.norm(phi,dim=2,keepdim=True)\n",
        "  l_psi =  torch.linalg.norm(psi,dim=2,keepdim=True)\n",
        "  l_phi_true = torch.linalg.norm(phi_true,dim=2,keepdim=True)\n",
        "  l_psi_true = torch.linalg.norm(psi_true,dim=2,keepdim=True)\n",
        "  phi_true = phi_true / l_phi_true \n",
        "  psi_true = phi_true / l_psi_true\n",
        "  phi = phi / l_phi\n",
        "  psi = psi / l_psi\n",
        "  one_label = torch.ones_like(l_phi).to(device)\n",
        "  mse_phi = nn.MSELoss()\n",
        "  mse_psi = nn.MSELoss()\n",
        "  l1_phi = nn.L1Loss()\n",
        "  l1_psi = nn.L1Loss()\n",
        "  loss = 0.5*mse_phi(phi,phi_true)+0.5*mse_psi(psi,psi_true)+ 0.5*l1_phi(l_phi,one_label)+ 0.5*l1_psi(l_psi,one_label)\n",
        "  return loss\n"
      ],
      "metadata": {
        "id": "3dcHnWtTUtCj"
      },
      "execution_count": null,
      "outputs": []
    },
    {
      "cell_type": "markdown",
      "source": [
        "# Capstone 2 Model"
      ],
      "metadata": {
        "id": "8dV5JVScbFkL"
      }
    },
    {
      "cell_type": "code",
      "source": [
        "class Capstone2(nn.Module):\n",
        "  def __init__(self,compute_loss=False):\n",
        "    super(Capstone2, self).__init__()\n",
        "    self.compute_loss = compute_loss\n",
        "    self.project_S = nn.Linear(256,384)\n",
        "    self.total_attention = TotalAttention()\n",
        "    self.transition = Transition()\n",
        "    self.backbone = BackboneUpdate()\n",
        "    self.torsion_angle = TorsionAngle()\n",
        "    \n",
        "      \n",
        "  def forward(self, M,Z,carbon_pos=None,angs=None):\n",
        "    batch_size = Z.shape[0]\n",
        "    n_seq = Z.shape[1]\n",
        "    T = torch.zeros(batch_size,n_seq,3,4).to(device)\n",
        "    S = self.project_S(M[:,0,:,:]) # prpject to 384\n",
        "    total_loss = 0\n",
        "    T_true, x_true = rigidFrom3Points(carbon_pos)\n",
        "      \n",
        "    for i in range(8):\n",
        "      S_initial = S\n",
        "      S = S + self.total_attention(S,T,Z)\n",
        "      S = S + self.transition(S)\n",
        "      T = T * self.backbone(S,batch_size,n_seq)\n",
        "      alpha = self.torsion_angle(S,S_initial)\n",
        "   \n",
        "      fape_loss = computeFAPE(T[:,:,:,:3], T[:,:,:,3].unsqueeze(3), T_true, x_true)\n",
        "      torsion_loss = TorsionLoss(alpha,angs)\n",
        "      combine_loss = fape_loss + torsion_loss \n",
        "      total_loss = total_loss + combine_loss\n",
        "  \n",
        "    total_loss = total_loss / 8\n",
        "    if self.compute_loss:\n",
        "      total_loss.backward()\n",
        "    return T, total_loss\n",
        "   \n",
        "          "
      ],
      "metadata": {
        "id": "WDbNike6VZ78"
      },
      "execution_count": null,
      "outputs": []
    },
    {
      "cell_type": "markdown",
      "source": [
        "## Define Dataset Class"
      ],
      "metadata": {
        "id": "wxOEbXSdS087"
      }
    },
    {
      "cell_type": "code",
      "source": [
        "def prepossess_data(seqs, evos, angs, masks, carbon_poses, overlap=32):\n",
        "  # zero padding the data block, distance map and mask\n",
        "  seq_len = seqs.size(dim=1)\n",
        "  m = nn.ZeroPad2d((0, 0, 128, 128))\n",
        "\n",
        "  seqs = m(seqs)\n",
        "  evos = m(evos)\n",
        "  angs = F.pad(angs,(0,0,128,128), \"constant\", 0)\n",
        "  masks = F.pad(masks,(128,128), \"constant\", 0)\n",
        "  carbon_poses = F.pad(carbon_poses,(0,0,0,0,128,128), \"constant\", 0)\n",
        "  #m = nn.ZeroPad2d(128)\n",
        "  #dmats_p = m(dmats)\n",
        "  #dmat_masks_p = m(dmat_masks)\n",
        "\n",
        "  start_pos = torch.randint(32, (1,))\n",
        "  start_pos = int(start_pos[0])\n",
        "  pos_x = start_pos\n",
        "  if seq_len < 40:\n",
        "    pos_x = 0\n",
        "  sc_list = list()\n",
        "  ec_list = list()\n",
        "  ang_list = list()\n",
        "  mask_list = list()\n",
        "  #dmat_crop_list = list()\n",
        "  #d_mask_crop_list = list()\n",
        "  carbon_pos_list = list()\n",
        "  for i in range(pos_x, seq_len, overlap):\n",
        "    seq_crop = seqs[:,pos_x:pos_x+256,:]\n",
        "    evo_crop = evos[:,pos_x:pos_x+256,:]\n",
        "    ang_crop = angs[:,pos_x:pos_x+256]\n",
        "    mask_crop = masks[:,pos_x:pos_x+256]\n",
        "    carbon_pos_crop = carbon_poses[:,pos_x:pos_x+256,:,:]\n",
        "   \n",
        "    #seq_crop = PairRep(seq_crop)\n",
        "    #dmat_crop = TV.functional.crop(dmats_p, i, i, 256, 256)\n",
        "    #dmat_crop = np.searchsorted(bin, dmat_crop)\n",
        "    #dmat_crop[dmat_crop > 63] = 63\n",
        "    #dmat_crop = torch.tensor(dmat_crop.tolist())\n",
        "    #d_mask_crop = TV.functional.crop(dmat_masks_p, i, i, 256, 256)\n",
        "    for j in range(seq_crop.shape[0]):\n",
        "      sc_list.append(seq_crop[j])\n",
        "      ec_list.append(evo_crop[j])\n",
        "      ang_list.append(ang_crop[j])\n",
        "      mask_list.append(mask_crop[j])\n",
        "      carbon_pos_list.append(carbon_pos_crop[j])\n",
        "      #dmat_crop_list.append(dmat_crop[j])\n",
        "      #d_mask_crop_list.append(d_mask_crop[j])\n",
        "  return sc_list, ec_list, ang_list, mask_list, carbon_pos_list #dmat_crop_list, d_mask_crop_list, "
      ],
      "metadata": {
        "id": "zD9Ur3__S3YK"
      },
      "execution_count": null,
      "outputs": []
    },
    {
      "cell_type": "code",
      "source": [
        "class AlphaFold_IterableDataset(torch.utils.data.IterableDataset):\n",
        "  def __init__(self, raw_data, num_workers,overlap=32):\n",
        "    super(AlphaFold_IterableDataset).__init__()\n",
        "    self.raw_data = raw_data \n",
        "    #how many workers\n",
        "    if num_workers <= 0:\n",
        "      self.num_workers = 1\n",
        "    else:\n",
        "      self.num_workers = num_workers\n",
        "\n",
        "    self.raw_data_list = [[]*4 for _ in range(self.num_workers)]\n",
        "    self.overlap = overlap\n",
        " \n",
        "    for idx, raw_data_info in enumerate(self.raw_data):\n",
        "      parallel_idx = idx % self.num_workers\n",
        "      self.raw_data_list[parallel_idx].append(raw_data_info)\n",
        "  def __iter__(self):\n",
        "    worker = torch.utils.data.get_worker_info()\n",
        "    if worker is not None:\n",
        "        worker_id = worker.id\n",
        "        num_workers = worker.num_workers\n",
        "    else:\n",
        "        worker_id = 0\n",
        "        num_workers = 1\n",
        "    for m, batch in enumerate(self.raw_data_list[worker_id]):\n",
        "      seqs, evos, angs, masks, carbon_poses = get_seq_features(batch)\n",
        "      sc_list, ec_list, ang_list, mask_list,carbon_pos_list =\\\n",
        "       prepossess_data(seqs, evos, angs, masks, carbon_poses, overlap=32)\n",
        "      for i, data_info in enumerate(zip(sc_list, ec_list, ang_list, mask_list, carbon_pos_list)):\n",
        "          yield data_info\n",
        "\n",
        "  def __len__(self):\n",
        "      return len(self.raw_data) * 26 * int(207 / self.overlap)"
      ],
      "metadata": {
        "id": "VS4kcv2dS8Z6"
      },
      "execution_count": null,
      "outputs": []
    },
    {
      "cell_type": "code",
      "source": [
        "def save_model(model, optimizer):\n",
        "    checkpoint = {\n",
        "        'state_dict': model.state_dict(),\n",
        "        'optimizer': optimizer.state_dict()}\n",
        "    torch.save(checkpoint, 'cap2_epoch2.pth')"
      ],
      "metadata": {
        "id": "KfATYgpuTEG8"
      },
      "execution_count": null,
      "outputs": []
    },
    {
      "cell_type": "markdown",
      "source": [
        "## Training"
      ],
      "metadata": {
        "id": "TByFuxuwTILu"
      }
    },
    {
      "cell_type": "code",
      "source": [
        "model_cap1 = Alphafold2(calculate_angle=False)\n",
        "checkpoint1 = torch.load('checkpoint_2epoch.pth')\n",
        "model_cap1.load_state_dict(checkpoint1['state_dict'])\n",
        "model_cap1 = model_cap1.to(device)\n",
        "\n",
        "checkpoint2 = torch.load('cap2_epoch2.pth')\n",
        "model_cap2 = Capstone2(compute_loss=True)\n",
        "model_cap2.load_state_dict(checkpoint2['state_dict'])\n",
        "model_cap2 = model_cap2.to(device)\n",
        "\n",
        "optimizer = optim.Adam(model_cap2.parameters(), lr=0.00008)\n",
        "optimizer.load_state_dict(checkpoint2['optimizer'])\n",
        "\n",
        "count = 0\n",
        "dataset = AlphaFold_IterableDataset(data['train'], num_workers=4)\n",
        "batch_size = 7\n",
        "train_loader = DataLoader(dataset, batch_size=batch_size,shuffle=False, num_workers=4)\n",
        "epochs = 2\n",
        "final_loss = 0\n",
        "\n",
        "count = 0\n",
        "model_cap2.train()\n",
        "model_cap1.eval()\n",
        "for batch_idx, (seq, evo, ang,mask, carbon_pose) in enumerate(tqdm(train_loader)):\n",
        "    seq, evo, ang, mask, carbon_pose = seq.to(device), evo.to(device), \\\n",
        "    ang.to(device), mask.to(device), carbon_pose.to(device)\n",
        "    with torch.no_grad():\n",
        "        M, Z = model_cap1(seq, evo)\n",
        "\n",
        "    sum_loss = 0\n",
        "    for epoch in range(1, epochs + 1):\n",
        "        optimizer.zero_grad()\n",
        "        T, loss = model_cap2(M,Z,carbon_pose,ang)\n",
        "        sum_loss += loss\n",
        "        optimizer.step()\n",
        "\n",
        "    final_loss += sum_loss / seq.shape[0]\n",
        "    if batch_idx % 1000 == 0 and batch_idx is not 0:\n",
        "        print('batch idx: {}, loss: {:.3f}'.format(batch_idx, final_loss / count))\n",
        "        save_model(model_cap2, optimizer)\n",
        "    \n",
        "    count += 1\n",
        "\n",
        "    del seq\n",
        "    del evo\n",
        "    del ang\n",
        "    del mask\n",
        "    del carbon_pose\n",
        "    gc.collect()\n",
        "\n",
        "\n",
        "print('Final loss {:.3f}'.format(final_loss / count))\n",
        "print(\"Finish\")"
      ],
      "metadata": {
        "colab": {
          "base_uri": "https://localhost:8080/",
          "height": 467
        },
        "id": "O_6yZaNNTJMu",
        "outputId": "47ae299b-ad0a-4a01-dbd8-34283b54a452"
      },
      "execution_count": null,
      "outputs": [
        {
          "output_type": "stream",
          "name": "stderr",
          "text": [
            " 13%|█▎        | 1001/7511 [1:41:32<11:09:11,  6.17s/it]"
          ]
        },
        {
          "output_type": "stream",
          "name": "stdout",
          "text": [
            "batch idx: 1000, loss: 509.309\n"
          ]
        },
        {
          "output_type": "stream",
          "name": "stderr",
          "text": [
            " 27%|██▋       | 2001/7511 [3:23:10<9:26:22,  6.17s/it]"
          ]
        },
        {
          "output_type": "stream",
          "name": "stdout",
          "text": [
            "batch idx: 2000, loss: 468.304\n"
          ]
        },
        {
          "output_type": "stream",
          "name": "stderr",
          "text": [
            " 40%|███▉      | 3001/7511 [5:04:29<8:02:19,  6.42s/it]"
          ]
        },
        {
          "output_type": "stream",
          "name": "stdout",
          "text": [
            "batch idx: 3000, loss: 401.892\n"
          ]
        },
        {
          "output_type": "stream",
          "name": "stderr",
          "text": [
            " 51%|█████     | 3842/7511 [6:29:49<6:12:16,  6.09s/it]\n"
          ]
        },
        {
          "output_type": "error",
          "ename": "KeyboardInterrupt",
          "evalue": "ignored",
          "traceback": [
            "\u001b[0;31m---------------------------------------------------------------------------\u001b[0m",
            "\u001b[0;31mKeyboardInterrupt\u001b[0m                         Traceback (most recent call last)",
            "\u001b[0;32m<ipython-input-27-f3fbf97fc9be>\u001b[0m in \u001b[0;36m<module>\u001b[0;34m()\u001b[0m\n\u001b[1;32m     30\u001b[0m     \u001b[0;32mfor\u001b[0m \u001b[0mepoch\u001b[0m \u001b[0;32min\u001b[0m \u001b[0mrange\u001b[0m\u001b[0;34m(\u001b[0m\u001b[0;36m1\u001b[0m\u001b[0;34m,\u001b[0m \u001b[0mepochs\u001b[0m \u001b[0;34m+\u001b[0m \u001b[0;36m1\u001b[0m\u001b[0;34m)\u001b[0m\u001b[0;34m:\u001b[0m\u001b[0;34m\u001b[0m\u001b[0;34m\u001b[0m\u001b[0m\n\u001b[1;32m     31\u001b[0m         \u001b[0moptimizer\u001b[0m\u001b[0;34m.\u001b[0m\u001b[0mzero_grad\u001b[0m\u001b[0;34m(\u001b[0m\u001b[0;34m)\u001b[0m\u001b[0;34m\u001b[0m\u001b[0;34m\u001b[0m\u001b[0m\n\u001b[0;32m---> 32\u001b[0;31m         \u001b[0mT\u001b[0m\u001b[0;34m,\u001b[0m \u001b[0mloss\u001b[0m \u001b[0;34m=\u001b[0m \u001b[0mmodel_cap2\u001b[0m\u001b[0;34m(\u001b[0m\u001b[0mM\u001b[0m\u001b[0;34m,\u001b[0m\u001b[0mZ\u001b[0m\u001b[0;34m,\u001b[0m\u001b[0mcarbon_pose\u001b[0m\u001b[0;34m,\u001b[0m\u001b[0mang\u001b[0m\u001b[0;34m)\u001b[0m\u001b[0;34m\u001b[0m\u001b[0;34m\u001b[0m\u001b[0m\n\u001b[0m\u001b[1;32m     33\u001b[0m         \u001b[0msum_loss\u001b[0m \u001b[0;34m+=\u001b[0m \u001b[0mloss\u001b[0m\u001b[0;34m\u001b[0m\u001b[0;34m\u001b[0m\u001b[0m\n\u001b[1;32m     34\u001b[0m         \u001b[0moptimizer\u001b[0m\u001b[0;34m.\u001b[0m\u001b[0mstep\u001b[0m\u001b[0;34m(\u001b[0m\u001b[0;34m)\u001b[0m\u001b[0;34m\u001b[0m\u001b[0;34m\u001b[0m\u001b[0m\n",
            "\u001b[0;32m/usr/local/lib/python3.7/dist-packages/torch/nn/modules/module.py\u001b[0m in \u001b[0;36m_call_impl\u001b[0;34m(self, *input, **kwargs)\u001b[0m\n\u001b[1;32m   1108\u001b[0m         if not (self._backward_hooks or self._forward_hooks or self._forward_pre_hooks or _global_backward_hooks\n\u001b[1;32m   1109\u001b[0m                 or _global_forward_hooks or _global_forward_pre_hooks):\n\u001b[0;32m-> 1110\u001b[0;31m             \u001b[0;32mreturn\u001b[0m \u001b[0mforward_call\u001b[0m\u001b[0;34m(\u001b[0m\u001b[0;34m*\u001b[0m\u001b[0minput\u001b[0m\u001b[0;34m,\u001b[0m \u001b[0;34m**\u001b[0m\u001b[0mkwargs\u001b[0m\u001b[0;34m)\u001b[0m\u001b[0;34m\u001b[0m\u001b[0;34m\u001b[0m\u001b[0m\n\u001b[0m\u001b[1;32m   1111\u001b[0m         \u001b[0;31m# Do not call functions when jit is used\u001b[0m\u001b[0;34m\u001b[0m\u001b[0;34m\u001b[0m\u001b[0;34m\u001b[0m\u001b[0m\n\u001b[1;32m   1112\u001b[0m         \u001b[0mfull_backward_hooks\u001b[0m\u001b[0;34m,\u001b[0m \u001b[0mnon_full_backward_hooks\u001b[0m \u001b[0;34m=\u001b[0m \u001b[0;34m[\u001b[0m\u001b[0;34m]\u001b[0m\u001b[0;34m,\u001b[0m \u001b[0;34m[\u001b[0m\u001b[0;34m]\u001b[0m\u001b[0;34m\u001b[0m\u001b[0;34m\u001b[0m\u001b[0m\n",
            "\u001b[0;32m<ipython-input-23-95f3b031bc95>\u001b[0m in \u001b[0;36mforward\u001b[0;34m(self, M, Z, carbon_pos, angs)\u001b[0m\n\u001b[1;32m     32\u001b[0m     \u001b[0;32mif\u001b[0m \u001b[0mself\u001b[0m\u001b[0;34m.\u001b[0m\u001b[0mcompute_loss\u001b[0m\u001b[0;34m:\u001b[0m\u001b[0;34m\u001b[0m\u001b[0;34m\u001b[0m\u001b[0m\n\u001b[1;32m     33\u001b[0m       \u001b[0mtotal_loss\u001b[0m \u001b[0;34m=\u001b[0m \u001b[0mtotal_loss\u001b[0m \u001b[0;34m/\u001b[0m \u001b[0;36m1\u001b[0m\u001b[0;34m\u001b[0m\u001b[0;34m\u001b[0m\u001b[0m\n\u001b[0;32m---> 34\u001b[0;31m       \u001b[0mtotal_loss\u001b[0m\u001b[0;34m.\u001b[0m\u001b[0mbackward\u001b[0m\u001b[0;34m(\u001b[0m\u001b[0;34m)\u001b[0m\u001b[0;34m\u001b[0m\u001b[0;34m\u001b[0m\u001b[0m\n\u001b[0m\u001b[1;32m     35\u001b[0m       \u001b[0;32mreturn\u001b[0m \u001b[0mT\u001b[0m\u001b[0;34m,\u001b[0m \u001b[0mtotal_loss\u001b[0m\u001b[0;34m\u001b[0m\u001b[0;34m\u001b[0m\u001b[0m\n\u001b[1;32m     36\u001b[0m \u001b[0;34m\u001b[0m\u001b[0m\n",
            "\u001b[0;32m/usr/local/lib/python3.7/dist-packages/torch/_tensor.py\u001b[0m in \u001b[0;36mbackward\u001b[0;34m(self, gradient, retain_graph, create_graph, inputs)\u001b[0m\n\u001b[1;32m    361\u001b[0m                 \u001b[0mcreate_graph\u001b[0m\u001b[0;34m=\u001b[0m\u001b[0mcreate_graph\u001b[0m\u001b[0;34m,\u001b[0m\u001b[0;34m\u001b[0m\u001b[0;34m\u001b[0m\u001b[0m\n\u001b[1;32m    362\u001b[0m                 inputs=inputs)\n\u001b[0;32m--> 363\u001b[0;31m         \u001b[0mtorch\u001b[0m\u001b[0;34m.\u001b[0m\u001b[0mautograd\u001b[0m\u001b[0;34m.\u001b[0m\u001b[0mbackward\u001b[0m\u001b[0;34m(\u001b[0m\u001b[0mself\u001b[0m\u001b[0;34m,\u001b[0m \u001b[0mgradient\u001b[0m\u001b[0;34m,\u001b[0m \u001b[0mretain_graph\u001b[0m\u001b[0;34m,\u001b[0m \u001b[0mcreate_graph\u001b[0m\u001b[0;34m,\u001b[0m \u001b[0minputs\u001b[0m\u001b[0;34m=\u001b[0m\u001b[0minputs\u001b[0m\u001b[0;34m)\u001b[0m\u001b[0;34m\u001b[0m\u001b[0;34m\u001b[0m\u001b[0m\n\u001b[0m\u001b[1;32m    364\u001b[0m \u001b[0;34m\u001b[0m\u001b[0m\n\u001b[1;32m    365\u001b[0m     \u001b[0;32mdef\u001b[0m \u001b[0mregister_hook\u001b[0m\u001b[0;34m(\u001b[0m\u001b[0mself\u001b[0m\u001b[0;34m,\u001b[0m \u001b[0mhook\u001b[0m\u001b[0;34m)\u001b[0m\u001b[0;34m:\u001b[0m\u001b[0;34m\u001b[0m\u001b[0;34m\u001b[0m\u001b[0m\n",
            "\u001b[0;32m/usr/local/lib/python3.7/dist-packages/torch/autograd/__init__.py\u001b[0m in \u001b[0;36mbackward\u001b[0;34m(tensors, grad_tensors, retain_graph, create_graph, grad_variables, inputs)\u001b[0m\n\u001b[1;32m    173\u001b[0m     Variable._execution_engine.run_backward(  # Calls into the C++ engine to run the backward pass\n\u001b[1;32m    174\u001b[0m         \u001b[0mtensors\u001b[0m\u001b[0;34m,\u001b[0m \u001b[0mgrad_tensors_\u001b[0m\u001b[0;34m,\u001b[0m \u001b[0mretain_graph\u001b[0m\u001b[0;34m,\u001b[0m \u001b[0mcreate_graph\u001b[0m\u001b[0;34m,\u001b[0m \u001b[0minputs\u001b[0m\u001b[0;34m,\u001b[0m\u001b[0;34m\u001b[0m\u001b[0;34m\u001b[0m\u001b[0m\n\u001b[0;32m--> 175\u001b[0;31m         allow_unreachable=True, accumulate_grad=True)  # Calls into the C++ engine to run the backward pass\n\u001b[0m\u001b[1;32m    176\u001b[0m \u001b[0;34m\u001b[0m\u001b[0m\n\u001b[1;32m    177\u001b[0m def grad(\n",
            "\u001b[0;31mKeyboardInterrupt\u001b[0m: "
          ]
        }
      ]
    },
    {
      "cell_type": "markdown",
      "source": [
        "# Test"
      ],
      "metadata": {
        "id": "CDP05lzNXFtd"
      }
    },
    {
      "cell_type": "code",
      "source": [
        "data = scn.load(casp_version=7, with_pytorch=\"dataloaders\", \n",
        "                seq_as_onehot=True, aggregate_model_input=False,\n",
        "               batch_size=1)\n",
        "model_cap1 = Alphafold2(calculate_angle=False)\n",
        "checkpoint1 = torch.load('checkpoint_2epoch.pth')\n",
        "model_cap1.load_state_dict(checkpoint1['state_dict'])\n",
        "model_cap1 = model_cap1.to(device)\n",
        "model_cap2 = Capstone2(compute_loss=False)\n",
        "checkpoint2 = torch.load('cap2_epoch2_batidx3000.pth')\n",
        "model_cap2.load_state_dict(checkpoint2['state_dict'])\n",
        "model_cap2 = model_cap2.to(device)\n",
        "loss_list = []\n",
        "with torch.no_grad():\n",
        "  for batch in tqdm(data['test']):\n",
        "    seq, evo, ang, mask, carbon_pose = get_seq_features(batch)\n",
        "\n",
        "    seq, evo, ang, mask, carbon_pose = seq.to(device), evo.to(device), \\\n",
        "    ang.to(device), mask.to(device), carbon_pose.to(device)\n",
        "    M, Z = model_cap1(seq, evo)\n",
        "\n",
        "    T, loss = model_cap2(M,Z,carbon_pose,ang)\n",
        "    loss_list.append(loss.item())\n",
        "\n",
        "loss_list = np.array(loss_list)\n",
        "max_idx = np.argmax(loss_list)\n",
        "min_idx = np.argmin(loss_list)\n",
        "avg_loss = np.mean(loss_list) \n",
        "print(\"Avg loss:\",avg_loss)"
      ],
      "metadata": {
        "id": "K_rIHF2-_fA0",
        "colab": {
          "base_uri": "https://localhost:8080/"
        },
        "outputId": "99cfb4d2-6daf-4328-92e5-eec36c2cc91e"
      },
      "execution_count": null,
      "outputs": [
        {
          "output_type": "stream",
          "name": "stdout",
          "text": [
            "SidechainNet was loaded from ./sidechainnet_data/sidechainnet_casp7_30.pkl.\n"
          ]
        },
        {
          "output_type": "stream",
          "name": "stderr",
          "text": [
            "100%|██████████| 93/93 [00:21<00:00,  4.35it/s]"
          ]
        },
        {
          "output_type": "stream",
          "name": "stdout",
          "text": [
            "Avg loss: 2049.8899814031456\n"
          ]
        },
        {
          "output_type": "stream",
          "name": "stderr",
          "text": [
            "\n"
          ]
        }
      ]
    },
    {
      "cell_type": "code",
      "source": [
        "def final_prediction(T,carbon_pose):\n",
        "  T = T.detach().to(\"cpu\")\n",
        "  carbon_pose = carbon_pose.detach().to(\"cpu\")\n",
        "  nseq = T.shape[1]\n",
        "  x = T[0,:,:,3]\n",
        "  crd = carbon_pose[0,:,1,:]\n",
        "  return x, crd\n",
        "xp, crd = final_prediction(T,carbon_pose)\n",
        "\n"
      ],
      "metadata": {
        "id": "i83-hbm4XJBp"
      },
      "execution_count": null,
      "outputs": []
    },
    {
      "cell_type": "code",
      "source": [
        "%matplotlib inline\n",
        "import numpy as np\n",
        "import matplotlib.pyplot as plt\n",
        "from mpl_toolkits import mplot3d\n",
        "\n",
        "def draw_DNA(xp,crd):\n",
        "  fig = plt.figure(dpi=100)\n",
        "  \n",
        "  ax = plt.axes(projection='3d')\n",
        "\n",
        "  for i in range(0,xp.shape[0]):\n",
        "    adata = xp[:,0].detach().numpy()\n",
        "    bdata = xp[:,1].detach().numpy()\n",
        "    cdata = xp[:,2].detach().numpy()\n",
        "    ax.scatter3D(adata, bdata, cdata, c=cdata, cmap=\"Reds\")\n",
        "    \n",
        "  for i in range(0,crd.shape[0]):\n",
        "    # Data for three-dimensional scattered points\n",
        "\n",
        "    xdata = crd[:,0].detach().numpy()\n",
        "    ydata = crd[:,1].detach().numpy()\n",
        "    zdata = crd[:,2].detach().numpy()\n",
        "    \n",
        "    ax.scatter3D(xdata, ydata, zdata, c=zdata, cmap=\"Greens\")\n",
        "\n",
        "\n",
        "  ax.plot3D(xdata,ydata,zdata)\n",
        "  ax.plot3D(adata,bdata,cdata)\n",
        "  plt.title(\"Red: Prediciton. Green: Label\")\n",
        "\n",
        "\n",
        "draw_DNA(xp,crd)"
      ],
      "metadata": {
        "colab": {
          "base_uri": "https://localhost:8080/",
          "height": 339
        },
        "id": "THEj2gbwXKa_",
        "outputId": "eacac9de-b284-4672-94c7-942749443be6"
      },
      "execution_count": null,
      "outputs": [
        {
          "output_type": "display_data",
          "data": {
            "text/plain": [
              "<Figure size 600x400 with 1 Axes>"
            ],
            "image/png": "[encoded data removed]"
          },
          "metadata": {
            "needs_background": "light"
          }
        }
      ]
    }
  ]
}