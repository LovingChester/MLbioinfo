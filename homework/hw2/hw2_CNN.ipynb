{
 "cells": [
  {
   "cell_type": "markdown",
   "id": "ec662d55-87da-4d4f-92a2-4e64ee6bf130",
   "metadata": {},
   "source": [
    "#### Import Libraries"
   ]
  },
  {
   "cell_type": "code",
   "execution_count": 1,
   "id": "39af43f2-928c-4962-983a-c6742715692c",
   "metadata": {},
   "outputs": [],
   "source": [
    "import torch\n",
    "import torch.nn as nn\n",
    "import torch.nn.functional as F\n",
    "import torch.optim as optim\n",
    "import torch.utils.data as du\n",
    "from torchvision import datasets, transforms\n",
    "import matplotlib.pyplot as plt\n",
    "import os"
   ]
  },
  {
   "cell_type": "markdown",
   "id": "340ed4b1-1b77-471f-b78e-0641093a8608",
   "metadata": {},
   "source": [
    "#### Define Dataset Class"
   ]
  },
  {
   "cell_type": "code",
   "execution_count": 2,
   "id": "9b511fad-8468-48d1-8ab3-90dbfa2c28b3",
   "metadata": {},
   "outputs": [],
   "source": [
    "from torch.utils.data import Dataset\n",
    "import joblib\n",
    "\n",
    "class JUND_Dataset(Dataset):\n",
    "    def __init__(self, data_dir):\n",
    "        '''load X, y, w, a from data_dir'''        \n",
    "        super(JUND_Dataset, self).__init__()\n",
    "\n",
    "        # load X, y, w, a from given data_dir\n",
    "        # convert them into torch tensors\n",
    "        self.path = os.path.join('.', data_dir)\n",
    "        self.X = torch.tensor(joblib.load(os.path.join(self.path, 'shard-0-X.joblib')), dtype=torch.float)\n",
    "        self.y = torch.tensor(joblib.load(os.path.join(self.path, 'shard-0-y.joblib')), dtype=torch.float)\n",
    "        self.w = torch.tensor(joblib.load(os.path.join(self.path, 'shard-0-w.joblib')), dtype=torch.float)\n",
    "        self.a = torch.tensor(joblib.load(os.path.join(self.path, 'shard-0-a.joblib')), dtype=torch.float)\n",
    "\n",
    "    def __len__(self):\n",
    "        '''return len of dataset'''\n",
    "        return len(self.X)\n",
    "\n",
    "    def __getitem__(self, idx):\n",
    "        '''return X, y, w, and a values at index idx'''\n",
    "        return self.X[idx], self.y[idx], self.w[idx], self.a[idx]"
   ]
  },
  {
   "cell_type": "markdown",
   "id": "d5eede3c-5f38-496f-a285-6830bdbeba37",
   "metadata": {},
   "source": [
    "#### Define Model"
   ]
  },
  {
   "cell_type": "code",
   "execution_count": 3,
   "id": "708b04d9-a022-4721-9af9-c2c28795b9ee",
   "metadata": {},
   "outputs": [],
   "source": [
    "class CNN(nn.Module):\n",
    "    def __init__(self, in_channels, out_channels, kernel_size, stride, padding, mlp_hidden_dim, out_dim):\n",
    "        \n",
    "        super(CNN, self).__init__()\n",
    "        \n",
    "        # define the CNN layer\n",
    "        self.cnn = nn.Conv1d(in_channels, out_channels, kernel_size, stride, padding)\n",
    "        \n",
    "        # dropout layer to regularize\n",
    "        self.dp1 = nn.Dropout()\n",
    "        \n",
    "        # define the MaxPooling Layer\n",
    "        self.maxpool = nn.MaxPool1d(kernel_size, stride, padding)\n",
    "        \n",
    "        # flatten (layer L + 2 * padding - 1) / stride + 1 d vec\n",
    "        self.flatten = nn.Flatten()\n",
    "        \n",
    "        # define the fully connected layer\n",
    "        # calculate the dim of output of CNN\n",
    "        in_dim = int((101 + 2 * padding - kernel_size) / stride) + 1\n",
    "        in_dim *= out_channels\n",
    "        self.fc1 = nn.Linear(in_dim, mlp_hidden_dim)\n",
    "        \n",
    "        # another dropout layer\n",
    "        self.dp2 = nn.Dropout()\n",
    "        \n",
    "        # the last fully connected layer\n",
    "        self.fc2 = nn.Linear(mlp_hidden_dim + 1, out_dim)\n",
    "        \n",
    "    def forward(self, x, a):\n",
    "        # swap the axis\n",
    "        x = torch.swapaxes(x, 1, 2)\n",
    "        \n",
    "        # feed the data to CNN\n",
    "        x = self.cnn(x)\n",
    "        \n",
    "        # apply relu\n",
    "        x = F.relu(x)\n",
    "        \n",
    "        # add the dropout\n",
    "        x = self.dp1(x)\n",
    "        \n",
    "        # MaxPool layer\n",
    "        x = self.maxpool(x)\n",
    "        \n",
    "        # flatten out the last CNN layer\n",
    "        x = self.flatten(x)\n",
    "        \n",
    "        # apply relu again\n",
    "        x = F.relu(self.fc1(x))\n",
    "        \n",
    "        # add another dropout\n",
    "        x = self.dp2(x)\n",
    "        \n",
    "        # concatenate the accessibility value\n",
    "        x = torch.cat((a, x), 1)\n",
    "        \n",
    "        # compute output layer\n",
    "        x = self.fc2(x)\n",
    "        return x"
   ]
  },
  {
   "cell_type": "markdown",
   "id": "ceff7491-41c1-4ff5-bb6d-032d929019e8",
   "metadata": {},
   "source": [
    "#### Set Up Training"
   ]
  },
  {
   "cell_type": "code",
   "execution_count": 4,
   "id": "d27eb0a8-385b-4727-b1f7-c74897739c93",
   "metadata": {},
   "outputs": [
    {
     "name": "stdout",
     "output_type": "stream",
     "text": [
      "using device: cuda:0\n"
     ]
    },
    {
     "data": {
      "text/plain": [
       "CNN(\n",
       "  (cnn): Conv1d(4, 100, kernel_size=(5,), stride=(1,), padding=(2,))\n",
       "  (dp1): Dropout(p=0.5, inplace=False)\n",
       "  (maxpool): MaxPool1d(kernel_size=5, stride=1, padding=2, dilation=1, ceil_mode=False)\n",
       "  (flatten): Flatten(start_dim=1, end_dim=-1)\n",
       "  (fc1): Linear(in_features=10100, out_features=256, bias=True)\n",
       "  (dp2): Dropout(p=0.5, inplace=False)\n",
       "  (fc2): Linear(in_features=257, out_features=1, bias=True)\n",
       ")"
      ]
     },
     "execution_count": 4,
     "metadata": {},
     "output_type": "execute_result"
    }
   ],
   "source": [
    "device = f'cuda:0' if torch.cuda.is_available() else 'cpu'\n",
    "print(f\"using device: {device}\")\n",
    "batch_size = 500\n",
    "learning_rate = 0.05\n",
    "epochs = 30\n",
    "\n",
    "out_channels = 100\n",
    "kernel_size = 5\n",
    "stride = 1\n",
    "padding = 2\n",
    "mlp_hidden_dim = 256\n",
    "model = CNN(4, out_channels, kernel_size, stride, padding, mlp_hidden_dim, 1)\n",
    "optimizer = optim.Adam(model.parameters(), lr=learning_rate)\n",
    "\n",
    "# load training data in batches\n",
    "train_loader = du.DataLoader(dataset=JUND_Dataset('train_dataset'), \n",
    "                        batch_size=batch_size, \n",
    "                        shuffle=True)\n",
    "\n",
    "# send model over to device\n",
    "model = model.to(device)\n",
    "model.train()"
   ]
  },
  {
   "cell_type": "markdown",
   "id": "a9dff1e6-2437-4e52-9d53-59f238c6d049",
   "metadata": {},
   "source": [
    "#### Training Loop Over Batches"
   ]
  },
  {
   "cell_type": "code",
   "execution_count": 5,
   "id": "ee00ab0a-60d0-43ae-81e5-530c5d72e43e",
   "metadata": {},
   "outputs": [
    {
     "name": "stdout",
     "output_type": "stream",
     "text": [
      "Epoch: 1, Loss: 2.639094\n",
      "Epoch: 2, Loss: 0.668354\n",
      "Epoch: 3, Loss: 0.652059\n",
      "Epoch: 4, Loss: 0.638180\n",
      "Epoch: 5, Loss: 0.625494\n",
      "Epoch: 6, Loss: 0.615118\n",
      "Epoch: 7, Loss: 0.604973\n",
      "Epoch: 8, Loss: 0.596842\n",
      "Epoch: 9, Loss: 0.589022\n",
      "Epoch: 10, Loss: 0.582821\n",
      "Epoch: 11, Loss: 0.576784\n",
      "Epoch: 12, Loss: 0.571529\n",
      "Epoch: 13, Loss: 0.566216\n",
      "Epoch: 14, Loss: 0.562194\n",
      "Epoch: 15, Loss: 0.558102\n",
      "Epoch: 16, Loss: 0.555573\n",
      "Epoch: 17, Loss: 0.552401\n",
      "Epoch: 18, Loss: 0.548509\n",
      "Epoch: 19, Loss: 0.546166\n",
      "Epoch: 20, Loss: 0.544736\n",
      "Epoch: 21, Loss: 0.543105\n",
      "Epoch: 22, Loss: 0.540954\n",
      "Epoch: 23, Loss: 0.540117\n",
      "Epoch: 24, Loss: 0.538454\n",
      "Epoch: 25, Loss: 0.537913\n",
      "Epoch: 26, Loss: 0.535464\n",
      "Epoch: 27, Loss: 0.535065\n",
      "Epoch: 28, Loss: 0.533405\n",
      "Epoch: 29, Loss: 0.533139\n",
      "Epoch: 30, Loss: 0.533407\n"
     ]
    }
   ],
   "source": [
    "for epoch in range(1, epochs + 1):    \n",
    "    sum_loss = 0.\n",
    "    for batch_idx, (X, y, w, a) in enumerate(train_loader):\n",
    "        # send batch over to device\n",
    "        X, y, w, a = X.to(device), y.to(device), w.to(device), a.to(device)\n",
    "        \n",
    "        # zero out prev gradients\n",
    "        optimizer.zero_grad()\n",
    "        \n",
    "        # run the forward pass\n",
    "        output = model(X, a)\n",
    "        \n",
    "        # compute loss/error\n",
    "        loss = F.binary_cross_entropy_with_logits(output, y, weight = w)\n",
    "        \n",
    "        # sum up batch losses\n",
    "        sum_loss += loss.item()\n",
    "        \n",
    "        # compute gradients and take a step\n",
    "        loss.backward()\n",
    "        optimizer.step()\n",
    "    \n",
    "    # average loss per example\n",
    "    sum_loss /= len(train_loader)\n",
    "    print(f'Epoch: {epoch}, Loss: {sum_loss:.6f}')"
   ]
  },
  {
   "cell_type": "markdown",
   "id": "0b6c0155-646c-4535-a908-54caa876fa71",
   "metadata": {},
   "source": [
    "#### Validation"
   ]
  },
  {
   "cell_type": "code",
   "execution_count": 6,
   "id": "e205cc8a-a4b8-4214-b886-fc1b095c0660",
   "metadata": {},
   "outputs": [
    {
     "name": "stdout",
     "output_type": "stream",
     "text": [
      "Valid loss: 0.001085, valid accuracy: 0.7182\n"
     ]
    }
   ],
   "source": [
    "# load the validation data for validation\n",
    "valid_loader = du.DataLoader(dataset=JUND_Dataset('valid_dataset'), \n",
    "                        batch_size=batch_size, \n",
    "                        shuffle=True)\n",
    "\n",
    "# set model in eval mode, since we are no longer training\n",
    "model.eval()\n",
    "valid_loss = 0\n",
    "correct = 0\n",
    "weight = 0\n",
    "\n",
    "# turn off gradient computation, will speed up testing\n",
    "with torch.no_grad():\n",
    "    for batch_idx, (X, y, w, a) in enumerate(valid_loader):\n",
    "        # send batches to device\n",
    "        X, y, w, a = X.to(device), y.to(device), w.to(device), a.to(device)\n",
    "        \n",
    "        # compute forward pass and loss\n",
    "        output = model(X, a)\n",
    "        loss = F.binary_cross_entropy_with_logits(output, y, weight = w)\n",
    "        \n",
    "        # sum up batch loss\n",
    "        valid_loss += loss.item()\n",
    "        \n",
    "        # compute the validation accuracy\n",
    "        pred = torch.clone(output)\n",
    "        pred = torch.sigmoid(pred)\n",
    "        pred[pred < float(0.5)] = 0\n",
    "        pred[pred != 0] = 1\n",
    "        correct += torch.sum((pred == y) * w)\n",
    "        weight += torch.sum(w)\n",
    "    \n",
    "    # valid loss per example\n",
    "    valid_loss /= len(valid_loader.dataset)\n",
    "    \n",
    "    # final test accuracy\n",
    "    valid_acc = correct / weight\n",
    "    \n",
    "    print(f'Valid loss: {valid_loss:.6f}, valid accuracy: {valid_acc:.4f}')"
   ]
  },
  {
   "cell_type": "markdown",
   "id": "33e5288a-e02a-4b8e-84d8-4fc995acbfab",
   "metadata": {},
   "source": [
    "#### Testing"
   ]
  },
  {
   "cell_type": "code",
   "execution_count": 7,
   "id": "9ace4626-2fef-4c8b-ad42-b342bd3a2ee5",
   "metadata": {},
   "outputs": [
    {
     "name": "stdout",
     "output_type": "stream",
     "text": [
      "Test loss: 0.001071, test accuracy: 0.7407\n"
     ]
    }
   ],
   "source": [
    "# load the validation data for validation\n",
    "test_loader = du.DataLoader(dataset=JUND_Dataset('test_dataset'), \n",
    "                        batch_size=batch_size, \n",
    "                        shuffle=True)\n",
    "\n",
    "# set model in eval mode, since we are no longer training\n",
    "model.eval()\n",
    "test_loss = 0\n",
    "correct = 0\n",
    "weight = 0\n",
    "\n",
    "# turn off gradient computation, will speed up testing\n",
    "with torch.no_grad():\n",
    "    for batch_idx, (X, y, w, a) in enumerate(test_loader):\n",
    "        # send batches to device\n",
    "        X, y, w, a = X.to(device), y.to(device), w.to(device), a.to(device)\n",
    "        \n",
    "        # compute forward pass and loss\n",
    "        output = model(X, a)\n",
    "        loss = F.binary_cross_entropy_with_logits(output, y, weight = w)\n",
    "        \n",
    "        # sum up batch loss\n",
    "        test_loss += loss.item()\n",
    "        \n",
    "        # compute the validation accuracy\n",
    "        pred = torch.clone(output)\n",
    "        pred = torch.sigmoid(pred)\n",
    "        pred[pred < float(0.5)] = 0\n",
    "        pred[pred != 0] = 1\n",
    "        correct += torch.sum((pred == y) * w)\n",
    "        weight += torch.sum(w)\n",
    "    \n",
    "    # valid loss per example\n",
    "    test_loss /= len(test_loader.dataset)\n",
    "    \n",
    "    # final test accuracy\n",
    "    test_acc = correct / weight\n",
    "    \n",
    "    print(f'Test loss: {test_loss:.6f}, test accuracy: {test_acc:.4f}')"
   ]
  },
  {
   "cell_type": "code",
   "execution_count": null,
   "id": "f4dc14ed-2b89-4b80-bf95-8bbee9ceb922",
   "metadata": {},
   "outputs": [],
   "source": []
  }
 ],
 "metadata": {
  "kernelspec": {
   "display_name": "default:Python",
   "language": "python",
   "name": "conda-env-default-py"
  },
  "language_info": {
   "codemirror_mode": {
    "name": "ipython",
    "version": 3
   },
   "file_extension": ".py",
   "mimetype": "text/x-python",
   "name": "python",
   "nbconvert_exporter": "python",
   "pygments_lexer": "ipython3",
   "version": "3.9.7"
  }
 },
 "nbformat": 4,
 "nbformat_minor": 5
}
