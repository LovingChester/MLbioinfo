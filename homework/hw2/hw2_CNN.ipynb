{
 "cells": [
  {
   "cell_type": "markdown",
   "id": "ec662d55-87da-4d4f-92a2-4e64ee6bf130",
   "metadata": {},
   "source": [
    "#### Import Libraries"
   ]
  },
  {
   "cell_type": "code",
   "execution_count": 2,
   "id": "39af43f2-928c-4962-983a-c6742715692c",
   "metadata": {},
   "outputs": [],
   "source": [
    "import torch\n",
    "import torch.nn as nn\n",
    "import torch.nn.functional as F\n",
    "import torch.optim as optim\n",
    "import torch.utils.data as du\n",
    "from torchvision import datasets, transforms\n",
    "import matplotlib.pyplot as plt\n",
    "import os"
   ]
  },
  {
   "cell_type": "markdown",
   "id": "340ed4b1-1b77-471f-b78e-0641093a8608",
   "metadata": {},
   "source": [
    "#### Define Dataset Class"
   ]
  },
  {
   "cell_type": "code",
   "execution_count": null,
   "id": "9b511fad-8468-48d1-8ab3-90dbfa2c28b3",
   "metadata": {},
   "outputs": [],
   "source": [
    "from torch.utils.data import Dataset\n",
    "import joblib\n",
    "\n",
    "class JUND_Dataset(Dataset):\n",
    "    def __init__(self, data_dir):\n",
    "        '''load X, y, w, a from data_dir'''        \n",
    "        super(JUND_Dataset, self).__init__()\n",
    "\n",
    "        # load X, y, w, a from given data_dir\n",
    "        # convert them into torch tensors\n",
    "        self.path = os.path.join('.', data_dir)\n",
    "        self.X = torch.tensor(joblib.load(os.path.join(self.path, 'shard-0-X.joblib')), dtype=torch.float)\n",
    "        self.y = torch.tensor(joblib.load(os.path.join(self.path, 'shard-0-y.joblib')), dtype=torch.float)\n",
    "        self.w = torch.tensor(joblib.load(os.path.join(self.path, 'shard-0-w.joblib')), dtype=torch.float)\n",
    "        self.a = torch.tensor(joblib.load(os.path.join(self.path, 'shard-0-a.joblib')), dtype=torch.float)\n",
    "\n",
    "    def __len__(self):\n",
    "        '''return len of dataset'''\n",
    "        return len(self.X)\n",
    "\n",
    "    def __getitem__(self, idx):\n",
    "        '''return X, y, w, and a values at index idx'''\n",
    "        return self.X[idx], self.y[idx], self.w[idx], self.a[idx]"
   ]
  },
  {
   "cell_type": "markdown",
   "id": "d5eede3c-5f38-496f-a285-6830bdbeba37",
   "metadata": {},
   "source": [
    "#### Define Model"
   ]
  },
  {
   "cell_type": "code",
   "execution_count": null,
   "id": "708b04d9-a022-4721-9af9-c2c28795b9ee",
   "metadata": {},
   "outputs": [],
   "source": [
    "class CNN(nn.Module):\n",
    "    def __init__(self, in_chennels, out_channels, kernel_size, stride=1, padding=0, mlp_hidden_dim, out_dim):\n",
    "        \n",
    "        super(MLP, self).__init__()\n",
    "        \n",
    "        # define the CNN layer\n",
    "        self.cnn = nn.Conv1d(in_channels, out_channels, kernel_size, stride, padding)\n",
    "        \n",
    "        # dropout layer to regularize\n",
    "        self.dp = nn.Dropout()\n",
    "        \n",
    "        # define the MaxPooling Layer\n",
    "        self.maxpool = nn.MaxPool1d(kernel_size, stride, padding)\n",
    "        \n",
    "        # define the fully connected layer\n",
    "        self.fc1 = nn.Linear()"
   ]
  },
  {
   "cell_type": "code",
   "execution_count": 12,
   "id": "abc5fa72-7c7c-490b-a2e6-b1e7c3ce606b",
   "metadata": {},
   "outputs": [
    {
     "name": "stdout",
     "output_type": "stream",
     "text": [
      "tensor([[[0, 1, 2],\n",
      "         [3, 4, 5]],\n",
      "\n",
      "        [[5, 6, 7],\n",
      "         [7, 8, 9]]])\n",
      "torch.Size([2, 2, 3])\n"
     ]
    }
   ],
   "source": [
    "x = torch.tensor([[[0,1,2],[3,4,5]],[[5,6,7],[7,8,9]]])\n",
    "print(x)\n",
    "print(x.size())"
   ]
  },
  {
   "cell_type": "code",
   "execution_count": 14,
   "id": "aacbc0a0-bf80-4816-b81b-710a5c6bb77c",
   "metadata": {},
   "outputs": [
    {
     "data": {
      "text/plain": [
       "tensor([[[0, 3],\n",
       "         [1, 4],\n",
       "         [2, 5]],\n",
       "\n",
       "        [[5, 7],\n",
       "         [6, 8],\n",
       "         [7, 9]]])"
      ]
     },
     "execution_count": 14,
     "metadata": {},
     "output_type": "execute_result"
    }
   ],
   "source": [
    "torch.swapaxes(x, 1, 2)"
   ]
  },
  {
   "cell_type": "code",
   "execution_count": 16,
   "id": "ee8043f0-9290-43ed-816d-f679bb43cdeb",
   "metadata": {},
   "outputs": [
    {
     "data": {
      "text/plain": [
       "torch.Size([2, 3, 2])"
      ]
     },
     "execution_count": 16,
     "metadata": {},
     "output_type": "execute_result"
    }
   ],
   "source": [
    "torch.swapaxes(x, 1, 2).size()"
   ]
  },
  {
   "cell_type": "code",
   "execution_count": null,
   "id": "535b8e07-930a-426b-a842-f0dbe304f96d",
   "metadata": {},
   "outputs": [],
   "source": []
  }
 ],
 "metadata": {
  "kernelspec": {
   "display_name": "default:Python",
   "language": "python",
   "name": "conda-env-default-py"
  },
  "language_info": {
   "codemirror_mode": {
    "name": "ipython",
    "version": 3
   },
   "file_extension": ".py",
   "mimetype": "text/x-python",
   "name": "python",
   "nbconvert_exporter": "python",
   "pygments_lexer": "ipython3",
   "version": "3.9.7"
  }
 },
 "nbformat": 4,
 "nbformat_minor": 5
}
