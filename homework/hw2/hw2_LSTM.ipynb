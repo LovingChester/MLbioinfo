{
 "cells": [
  {
   "cell_type": "markdown",
   "id": "7db89955-1795-4aeb-8f7e-7c9b40762c67",
   "metadata": {},
   "source": [
    "#### Import Libraries"
   ]
  },
  {
   "cell_type": "code",
   "execution_count": 1,
   "id": "5d294cfb-1f08-4905-acff-2adb8864ff02",
   "metadata": {},
   "outputs": [],
   "source": [
    "import torch\n",
    "import torch.nn as nn\n",
    "import torch.nn.functional as F\n",
    "import torch.optim as optim\n",
    "import torch.utils.data as du\n",
    "from torchvision import datasets, transforms\n",
    "import matplotlib.pyplot as plt\n",
    "import os"
   ]
  },
  {
   "cell_type": "markdown",
   "id": "098577b4-1f67-4f0f-8426-74b587934b49",
   "metadata": {},
   "source": [
    "#### Define Dataset Class"
   ]
  },
  {
   "cell_type": "code",
   "execution_count": 2,
   "id": "68b5b820-69cf-4e36-9c48-eded1bb28050",
   "metadata": {},
   "outputs": [],
   "source": [
    "from torch.utils.data import Dataset\n",
    "import joblib\n",
    "\n",
    "class JUND_Dataset(Dataset):\n",
    "    def __init__(self, data_dir):\n",
    "        '''load X, y, w, a from data_dir'''        \n",
    "        super(JUND_Dataset, self).__init__()\n",
    "\n",
    "        # load X, y, w, a from given data_dir\n",
    "        # convert them into torch tensors\n",
    "        self.path = os.path.join('.', data_dir)\n",
    "        self.X = torch.tensor(joblib.load(os.path.join(self.path, 'shard-0-X.joblib')), dtype=torch.float)\n",
    "        self.y = torch.tensor(joblib.load(os.path.join(self.path, 'shard-0-y.joblib')), dtype=torch.float)\n",
    "        self.w = torch.tensor(joblib.load(os.path.join(self.path, 'shard-0-w.joblib')), dtype=torch.float)\n",
    "        self.a = torch.tensor(joblib.load(os.path.join(self.path, 'shard-0-a.joblib')), dtype=torch.float)\n",
    "\n",
    "    def __len__(self):\n",
    "        '''return len of dataset'''\n",
    "        return len(self.X)\n",
    "\n",
    "    def __getitem__(self, idx):\n",
    "        '''return X, y, w, and a values at index idx'''\n",
    "        return self.X[idx], self.y[idx], self.w[idx], self.a[idx]"
   ]
  },
  {
   "cell_type": "markdown",
   "id": "071ca0d9-f424-4b16-af62-2d370527305b",
   "metadata": {},
   "source": [
    "#### Define Model"
   ]
  },
  {
   "cell_type": "code",
   "execution_count": 3,
   "id": "67351c79-2f14-4317-a7c6-7690ca0866ec",
   "metadata": {},
   "outputs": [],
   "source": [
    "class LSTM(nn.Module):\n",
    "    def __init__(self, in_dim, lstm_hidden_dim, mlp_hidden_dim, out_dim):\n",
    "        '''in_dim: input layer dim\n",
    "           hidden_dim: hidden layer dim\n",
    "           out_dim: output layer dim'''\n",
    "        \n",
    "        super(LSTM, self).__init__()\n",
    "        \n",
    "        # define the LSTM layer\n",
    "        self.lstm = nn.LSTM(input_size=in_dim, hidden_size=lstm_hidden_dim, batch_first=True)\n",
    "        \n",
    "        # fully connected layers\n",
    "        self.fc1 = nn.Linear(lstm_hidden_dim, mlp_hidden_dim)\n",
    "        \n",
    "        # dropout layer to regularize\n",
    "        self.dp = nn.Dropout()\n",
    "        \n",
    "        # add one since we have accessibility value\n",
    "        self.fc2 = nn.Linear(mlp_hidden_dim + 1, out_dim)\n",
    "        \n",
    "    def forward(self, x, a):\n",
    "        # feed the data into the LSTM RNN\n",
    "        # hn is the last hidden layer: torch.Size([1, 1000, 128])\n",
    "        x, (hn, cn) = self.lstm(x)\n",
    "\n",
    "        # use the last hidden layer of LSTM RNN as input of mlp\n",
    "        x = F.relu(self.fc1(hn[0]))\n",
    "        \n",
    "        # add the dropout\n",
    "        x = self.dp(x)\n",
    "        \n",
    "        # concatenate the accessibility value\n",
    "        x = torch.cat((a, x), 1)\n",
    "        \n",
    "        # compute output layer\n",
    "        x = self.fc2(x)\n",
    "        return x"
   ]
  },
  {
   "cell_type": "markdown",
   "id": "41983f9f-22ee-427b-9c03-327127ab7d95",
   "metadata": {},
   "source": [
    "#### Set Up Training"
   ]
  },
  {
   "cell_type": "code",
   "execution_count": 4,
   "id": "92950cae-6c59-44aa-97e7-fd942106bdf3",
   "metadata": {},
   "outputs": [
    {
     "name": "stdout",
     "output_type": "stream",
     "text": [
      "using device: cuda:0\n"
     ]
    },
    {
     "data": {
      "text/plain": [
       "LSTM(\n",
       "  (lstm): LSTM(4, 128, batch_first=True)\n",
       "  (fc1): Linear(in_features=128, out_features=256, bias=True)\n",
       "  (dp): Dropout(p=0.5, inplace=False)\n",
       "  (fc2): Linear(in_features=257, out_features=1, bias=True)\n",
       ")"
      ]
     },
     "execution_count": 4,
     "metadata": {},
     "output_type": "execute_result"
    }
   ],
   "source": [
    "device = f'cuda:0' if torch.cuda.is_available() else 'cpu'\n",
    "print(f\"using device: {device}\")\n",
    "batch_size = 500\n",
    "learning_rate = 0.08\n",
    "epochs = 20\n",
    "\n",
    "# set model and optimizer\n",
    "# DNA bases has one hot vector with 101x4\n",
    "# use 128d hidden layer\n",
    "# output is 1d since there is only 0 and 1 classe\n",
    "lstm_hidden_dim = 128\n",
    "mlp_hidden_dim = 256\n",
    "model = LSTM(4, lstm_hidden_dim, mlp_hidden_dim, 1)\n",
    "optimizer = optim.Adam(model.parameters(), lr=learning_rate)\n",
    "\n",
    "# load training data in batches\n",
    "train_loader = du.DataLoader(dataset=JUND_Dataset('train_dataset'), \n",
    "                        batch_size=batch_size, \n",
    "                        shuffle=True)\n",
    "\n",
    "# send model over to device\n",
    "model = model.to(device)\n",
    "model.train()"
   ]
  },
  {
   "cell_type": "markdown",
   "id": "e679150d-132c-4fe3-9bac-eb0b159f9476",
   "metadata": {},
   "source": [
    "#### Training Loop Over Batches"
   ]
  },
  {
   "cell_type": "code",
   "execution_count": 5,
   "id": "2df7dca2-150e-4603-ba04-6675da97709d",
   "metadata": {},
   "outputs": [
    {
     "name": "stdout",
     "output_type": "stream",
     "text": [
      "Epoch: 1, Loss: 1.024034\n",
      "Epoch: 2, Loss: 0.655439\n",
      "Epoch: 3, Loss: 0.633099\n",
      "Epoch: 4, Loss: 0.615557\n",
      "Epoch: 5, Loss: 0.602025\n",
      "Epoch: 6, Loss: 0.590489\n",
      "Epoch: 7, Loss: 0.579700\n",
      "Epoch: 8, Loss: 0.570996\n",
      "Epoch: 9, Loss: 0.565364\n",
      "Epoch: 10, Loss: 0.558405\n",
      "Epoch: 11, Loss: 0.554096\n",
      "Epoch: 12, Loss: 0.550191\n",
      "Epoch: 13, Loss: 0.547394\n",
      "Epoch: 14, Loss: 0.544297\n",
      "Epoch: 15, Loss: 0.540657\n",
      "Epoch: 16, Loss: 0.540469\n",
      "Epoch: 17, Loss: 0.535822\n",
      "Epoch: 18, Loss: 0.537230\n",
      "Epoch: 19, Loss: 0.534035\n",
      "Epoch: 20, Loss: 0.534040\n"
     ]
    }
   ],
   "source": [
    "for epoch in range(1, epochs + 1):    \n",
    "    sum_loss = 0.\n",
    "    for batch_idx, (X, y, w, a) in enumerate(train_loader):\n",
    "        # send batch over to device\n",
    "        X, y, w, a = X.to(device), y.to(device), w.to(device), a.to(device)\n",
    "        \n",
    "        # zero out prev gradients\n",
    "        optimizer.zero_grad()\n",
    "        \n",
    "        # run the forward pass\n",
    "        output = model(X, a)\n",
    "        \n",
    "        # compute loss/error\n",
    "        loss = F.binary_cross_entropy_with_logits(output, y, weight = w)\n",
    "        \n",
    "        # sum up batch losses\n",
    "        sum_loss += loss.item()\n",
    "        \n",
    "        # compute gradients and take a step\n",
    "        loss.backward()\n",
    "        optimizer.step()\n",
    "    \n",
    "    # average loss per example\n",
    "    sum_loss /= len(train_loader)\n",
    "    print(f'Epoch: {epoch}, Loss: {sum_loss:.6f}')"
   ]
  },
  {
   "cell_type": "markdown",
   "id": "0124f4fc-5e40-4758-b7b4-127979d4c618",
   "metadata": {},
   "source": [
    "#### Validation"
   ]
  },
  {
   "cell_type": "code",
   "execution_count": 6,
   "id": "bc7e1b47-3271-44ee-9a0a-5340e2c75489",
   "metadata": {},
   "outputs": [
    {
     "name": "stdout",
     "output_type": "stream",
     "text": [
      "Valid loss: 0.001063, valid accuracy: 0.7392\n"
     ]
    }
   ],
   "source": [
    "# load the validation data for validation\n",
    "valid_loader = du.DataLoader(dataset=JUND_Dataset('valid_dataset'), \n",
    "                        batch_size=batch_size, \n",
    "                        shuffle=True)\n",
    "\n",
    "# set model in eval mode, since we are no longer training\n",
    "model.eval()\n",
    "valid_loss = 0\n",
    "correct = 0\n",
    "weight = 0\n",
    "\n",
    "# turn off gradient computation, will speed up testing\n",
    "with torch.no_grad():\n",
    "    for batch_idx, (X, y, w, a) in enumerate(valid_loader):\n",
    "        # send batches to device\n",
    "        X, y, w, a = X.to(device), y.to(device), w.to(device), a.to(device)\n",
    "        \n",
    "        # compute forward pass and loss\n",
    "        output = model(X, a)\n",
    "        loss = F.binary_cross_entropy_with_logits(output, y, weight = w)\n",
    "        \n",
    "        # sum up batch loss\n",
    "        valid_loss += loss.item()\n",
    "        \n",
    "        # compute the validation accuracy\n",
    "        pred = torch.clone(output)\n",
    "        pred = torch.sigmoid(pred)\n",
    "        pred[pred < float(0.5)] = 0\n",
    "        pred[pred != 0] = 1\n",
    "        correct += torch.sum((pred == y) * w)\n",
    "        weight += torch.sum(w)\n",
    "    \n",
    "    # valid loss per example\n",
    "    valid_loss /= len(valid_loader.dataset)\n",
    "    \n",
    "    # final test accuracy\n",
    "    valid_acc = correct / weight\n",
    "    \n",
    "    print(f'Valid loss: {valid_loss:.6f}, valid accuracy: {valid_acc:.4f}')"
   ]
  },
  {
   "cell_type": "markdown",
   "id": "7f5b8a08-450b-4684-a5b5-ccc8f69e3f8b",
   "metadata": {},
   "source": [
    "#### Testing"
   ]
  },
  {
   "cell_type": "code",
   "execution_count": 7,
   "id": "bbec6ae2-6cc1-4926-8a0a-34eba972cfce",
   "metadata": {},
   "outputs": [
    {
     "name": "stdout",
     "output_type": "stream",
     "text": [
      "Test loss: 0.001097, test accuracy: 0.7336\n"
     ]
    }
   ],
   "source": [
    "# load the validation data for validation\n",
    "test_loader = du.DataLoader(dataset=JUND_Dataset('test_dataset'), \n",
    "                        batch_size=batch_size, \n",
    "                        shuffle=True)\n",
    "\n",
    "# set model in eval mode, since we are no longer training\n",
    "model.eval()\n",
    "test_loss = 0\n",
    "correct = 0\n",
    "weight = 0\n",
    "\n",
    "# turn off gradient computation, will speed up testing\n",
    "with torch.no_grad():\n",
    "    for batch_idx, (X, y, w, a) in enumerate(test_loader):\n",
    "        # send batches to device\n",
    "        X, y, w, a = X.to(device), y.to(device), w.to(device), a.to(device)\n",
    "        \n",
    "        # compute forward pass and loss\n",
    "        output = model(X, a)\n",
    "        loss = F.binary_cross_entropy_with_logits(output, y, weight = w)\n",
    "        \n",
    "        # sum up batch loss\n",
    "        test_loss += loss.item()\n",
    "        \n",
    "        # compute the validation accuracy\n",
    "        pred = torch.clone(output)\n",
    "        pred = torch.sigmoid(pred)\n",
    "        pred[pred < float(0.5)] = 0\n",
    "        pred[pred != 0] = 1\n",
    "        correct += torch.sum((pred == y) * w)\n",
    "        weight += torch.sum(w)\n",
    "    \n",
    "    # valid loss per example\n",
    "    test_loss /= len(test_loader.dataset)\n",
    "    \n",
    "    # final test accuracy\n",
    "    test_acc = correct / weight\n",
    "    \n",
    "    print(f'Test loss: {test_loss:.6f}, test accuracy: {test_acc:.4f}')"
   ]
  },
  {
   "cell_type": "code",
   "execution_count": null,
   "id": "e349fc22-0f05-43ad-bcd8-64507b6c77d2",
   "metadata": {},
   "outputs": [],
   "source": []
  }
 ],
 "metadata": {
  "kernelspec": {
   "display_name": "default:Python",
   "language": "python",
   "name": "conda-env-default-py"
  },
  "language_info": {
   "codemirror_mode": {
    "name": "ipython",
    "version": 3
   },
   "file_extension": ".py",
   "mimetype": "text/x-python",
   "name": "python",
   "nbconvert_exporter": "python",
   "pygments_lexer": "ipython3",
   "version": "3.9.7"
  }
 },
 "nbformat": 4,
 "nbformat_minor": 5
}
