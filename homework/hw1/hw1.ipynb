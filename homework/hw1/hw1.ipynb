{
 "cells": [
  {
   "cell_type": "markdown",
   "id": "5ba254d1-7a1d-410d-babe-6cbae9e92fe0",
   "metadata": {},
   "source": [
    "#### Import Libraries"
   ]
  },
  {
   "cell_type": "code",
   "execution_count": 1,
   "id": "e0971f2d-78b9-4ebe-b61c-74899a2af873",
   "metadata": {
    "tags": []
   },
   "outputs": [],
   "source": [
    "import torch\n",
    "import torch.nn as nn\n",
    "import torch.nn.functional as F\n",
    "import torch.optim as optim\n",
    "import torch.utils.data as du\n",
    "from torchvision import datasets, transforms\n",
    "import matplotlib.pyplot as plt\n",
    "import os"
   ]
  },
  {
   "cell_type": "markdown",
   "id": "9306c279-6aed-4302-a605-1fc479f69f85",
   "metadata": {},
   "source": [
    "#### Define Dataset Class"
   ]
  },
  {
   "cell_type": "code",
   "execution_count": 2,
   "id": "877bdc86-08b4-4af1-84f9-c67250b87074",
   "metadata": {},
   "outputs": [],
   "source": [
    "from torch.utils.data import Dataset\n",
    "import joblib\n",
    "\n",
    "class JUND_Dataset(Dataset):\n",
    "    def __init__(self, data_dir):\n",
    "        '''load X, y, w, a from data_dir'''        \n",
    "        super(JUND_Dataset, self).__init__()\n",
    "\n",
    "        # load X, y, w, a from given data_dir\n",
    "        # convert them into torch tensors\n",
    "        self.path = os.path.join('.', data_dir)\n",
    "        self.X = torch.tensor(joblib.load(os.path.join(self.path, 'shard-0-X.joblib')), dtype=torch.float)\n",
    "        self.y = torch.tensor(joblib.load(os.path.join(self.path, 'shard-0-y.joblib')), dtype=torch.float)\n",
    "        self.w = torch.tensor(joblib.load(os.path.join(self.path, 'shard-0-w.joblib')), dtype=torch.float)\n",
    "        self.a = torch.tensor(joblib.load(os.path.join(self.path, 'shard-0-a.joblib')), dtype=torch.float)\n",
    "\n",
    "    def __len__(self):\n",
    "        '''return len of dataset'''\n",
    "        return len(self.X)\n",
    "\n",
    "    def __getitem__(self, idx):\n",
    "        '''return X, y, w, and a values at index idx'''\n",
    "        return self.X[idx], self.y[idx], self.w[idx], self.a[idx]"
   ]
  },
  {
   "cell_type": "markdown",
   "id": "78df37dd-b4b0-46b5-ba21-2975a3d84271",
   "metadata": {
    "tags": []
   },
   "source": [
    "#### Define Model"
   ]
  },
  {
   "cell_type": "code",
   "execution_count": 3,
   "id": "eb8e5581-0e83-4036-a579-e6e4239bcdc4",
   "metadata": {},
   "outputs": [],
   "source": [
    "class MLP(nn.Module):\n",
    "    def __init__(self, in_dim, hidden_dim, out_dim):\n",
    "        '''in_dim: input layer dim\n",
    "           hidden_dim: hidden layer dim\n",
    "           out_dim: output layer dim'''\n",
    "        \n",
    "        super(MLP, self).__init__()\n",
    "        \n",
    "        # images are 101x4 so flatten them into 404d vec\n",
    "        self.flatten = nn.Flatten()\n",
    "        \n",
    "        # two fully connected layers\n",
    "        self.fc1 = nn.Linear(in_dim, hidden_dim)\n",
    "        # add one since we have accessibility value\n",
    "        self.fc2 = nn.Linear(hidden_dim + 1, out_dim)\n",
    "\n",
    "    def forward(self, x, a):\n",
    "        # since x is 101x4, flatten it first\n",
    "        x = self.flatten(x)\n",
    "        \n",
    "        # compute output of fc1, and apply relu activation\n",
    "        x = F.relu(self.fc1(x))\n",
    "        # print(x.size())\n",
    "        # print(a.size())\n",
    "        # concatenate the accessibility value\n",
    "        x = torch.cat((a, x), 1)\n",
    "        \n",
    "        # compute output layer\n",
    "        x = self.fc2(x)\n",
    "        return x"
   ]
  },
  {
   "cell_type": "markdown",
   "id": "22865919-41b9-4833-bd8d-69f2968fd70f",
   "metadata": {},
   "source": [
    "#### Set Up Training"
   ]
  },
  {
   "cell_type": "code",
   "execution_count": 4,
   "id": "9a109fe6-081c-45fc-b4ee-159c02c1898d",
   "metadata": {},
   "outputs": [
    {
     "name": "stdout",
     "output_type": "stream",
     "text": [
      "using device: cuda:0\n"
     ]
    },
    {
     "data": {
      "text/plain": [
       "MLP(\n",
       "  (flatten): Flatten(start_dim=1, end_dim=-1)\n",
       "  (fc1): Linear(in_features=404, out_features=128, bias=True)\n",
       "  (fc2): Linear(in_features=129, out_features=1, bias=True)\n",
       ")"
      ]
     },
     "execution_count": 4,
     "metadata": {},
     "output_type": "execute_result"
    }
   ],
   "source": [
    "device = f'cuda:0' if torch.cuda.is_available() else 'cpu'\n",
    "print(f\"using device: {device}\")\n",
    "batch_size = 1000\n",
    "learning_rate = 0.01\n",
    "epochs = 5\n",
    "\n",
    "# set model and optimizer\n",
    "# images are 101x4 as inputs\n",
    "# use 128d hidden layer\n",
    "# output is 1d since there is only 0 and 1 classe\n",
    "model = MLP(101*4, 128, 1)\n",
    "optimizer = optim.Adam(model.parameters(), lr=learning_rate)\n",
    "\n",
    "# load training data in batches\n",
    "train_loader = du.DataLoader(dataset=JUND_Dataset('train_dataset'), \n",
    "                        batch_size=batch_size, \n",
    "                        shuffle=True)\n",
    "\n",
    "# send model over to device\n",
    "model = model.to(device)\n",
    "model.train()\n",
    "\n",
    "# train_features = next(iter(train_loader))\n",
    "# train_features"
   ]
  },
  {
   "cell_type": "code",
   "execution_count": 6,
   "id": "66a036b2-c04f-439d-8f2f-e03ec61285c4",
   "metadata": {},
   "outputs": [
    {
     "name": "stdout",
     "output_type": "stream",
     "text": [
      "Epoch: 1, Loss: 0.696123\n",
      "Epoch: 2, Loss: 0.688886\n",
      "Epoch: 3, Loss: 0.678956\n",
      "Epoch: 4, Loss: 0.666717\n",
      "Epoch: 5, Loss: 0.649644\n"
     ]
    }
   ],
   "source": [
    "for epoch in range(1, epochs + 1):    \n",
    "    sum_loss = 0.\n",
    "    for batch_idx, (X, y, w, a) in enumerate(train_loader):\n",
    "        # send batch over to device\n",
    "        X, y, w, a = X.to(device), y.to(device), w.to(device), a.to(device)\n",
    "        \n",
    "        # zero out prev gradients\n",
    "        optimizer.zero_grad()\n",
    "        \n",
    "        # run the forward pass\n",
    "        #print(torch.reshape(a, (1, -1)))\n",
    "        output = model(X, a)\n",
    "        \n",
    "        # compute loss/error\n",
    "        loss = F.binary_cross_entropy_with_logits(output, y, weight = w)\n",
    "        \n",
    "        # sum up batch losses\n",
    "        sum_loss += loss.item()\n",
    "        \n",
    "        # compute gradients and take a step\n",
    "        loss.backward()\n",
    "        optimizer.step()\n",
    "    \n",
    "    # average loss per example    \n",
    "    sum_loss /= len(train_loader)\n",
    "    print(f'Epoch: {epoch}, Loss: {sum_loss:.6f}')"
   ]
  },
  {
   "cell_type": "code",
   "execution_count": null,
   "id": "1db11cc2-00c8-4189-8d75-ddcd65a3f658",
   "metadata": {},
   "outputs": [],
   "source": []
  }
 ],
 "metadata": {
  "kernelspec": {
   "display_name": "default:Python",
   "language": "python",
   "name": "conda-env-default-py"
  },
  "language_info": {
   "codemirror_mode": {
    "name": "ipython",
    "version": 3
   },
   "file_extension": ".py",
   "mimetype": "text/x-python",
   "name": "python",
   "nbconvert_exporter": "python",
   "pygments_lexer": "ipython3",
   "version": "3.9.7"
  }
 },
 "nbformat": 4,
 "nbformat_minor": 5
}
