{
 "cells": [
  {
   "cell_type": "markdown",
   "id": "5ba254d1-7a1d-410d-babe-6cbae9e92fe0",
   "metadata": {},
   "source": [
    "#### Import Libraries"
   ]
  },
  {
   "cell_type": "code",
   "execution_count": 10,
   "id": "e0971f2d-78b9-4ebe-b61c-74899a2af873",
   "metadata": {
    "tags": []
   },
   "outputs": [],
   "source": [
    "import torch\n",
    "import torch.nn as nn\n",
    "import torch.nn.functional as F\n",
    "import torch.optim as optim\n",
    "import torch.utils.data as du\n",
    "from torchvision import datasets, transforms\n",
    "import matplotlib.pyplot as plt\n",
    "import os"
   ]
  },
  {
   "cell_type": "markdown",
   "id": "9306c279-6aed-4302-a605-1fc479f69f85",
   "metadata": {},
   "source": [
    "#### Define Dataset Class"
   ]
  },
  {
   "cell_type": "code",
   "execution_count": 25,
   "id": "877bdc86-08b4-4af1-84f9-c67250b87074",
   "metadata": {},
   "outputs": [],
   "source": [
    "from torch.utils.data import Dataset\n",
    "import joblib\n",
    "\n",
    "class JUND_Dataset(Dataset):\n",
    "    def __init__(self, data_dir):\n",
    "        '''load X, y, w, a from data_dir'''        \n",
    "        super(JUND_Dataset, self).__init__()\n",
    "\n",
    "        # load X, y, w, a from given data_dir\n",
    "        # convert them into torch tensors\n",
    "        self.path = os.path.join('.', data_dir)\n",
    "        self.X = torch.tensor(joblib.load(os.path.join(self.path, 'shard-0-X.joblib')))\n",
    "        self.y = torch.tensor(joblib.load(os.path.join(self.path, 'shard-0-y.joblib')))\n",
    "        self.w = torch.tensor(joblib.load(os.path.join(self.path, 'shard-0-w.joblib')))\n",
    "        self.a = torch.tensor(joblib.load(os.path.join(self.path, 'shard-0-a.joblib')))\n",
    "\n",
    "    def __len__(self):\n",
    "        '''return len of dataset'''\n",
    "        return len(self.X)\n",
    "\n",
    "    def __getitem__(self, idx):\n",
    "        '''return X, y, w, and a values at index idx'''\n",
    "        return self.X[idx], self.y[idx], self.w[idx], self.a[idx]"
   ]
  },
  {
   "cell_type": "markdown",
   "id": "78df37dd-b4b0-46b5-ba21-2975a3d84271",
   "metadata": {
    "tags": []
   },
   "source": [
    "#### Define Model"
   ]
  },
  {
   "cell_type": "code",
   "execution_count": null,
   "id": "eb8e5581-0e83-4036-a579-e6e4239bcdc4",
   "metadata": {},
   "outputs": [],
   "source": [
    "class MLP(nn.Module):\n",
    "    def __init__(self, in_dim, hidden_dim, out_dim):\n",
    "        '''in_dim: input layer dim\n",
    "           hidden_dim: hidden layer dim\n",
    "           out_dim: output layer dim'''\n",
    "        \n",
    "        super(MLP, self).__init__()\n",
    "        \n",
    "        # images are 101x4 so flatten them into 404d vec\n",
    "        self.flatten = nn.Flatten()\n",
    "        \n",
    "        #two fully connected layers\n",
    "        self.fc1 = nn.Linear(in_dim, hidden_dim)\n",
    "        self.fc2 = nn.Linear(hidden_dim, out_dim)\n",
    "\n",
    "    def forward(self, x):\n",
    "        # since x is 101x4, flatten it first\n",
    "        x = self.flatten(x)\n",
    "        \n",
    "        # compute output of fc1, and apply relu activation\n",
    "        x = F.relu(self.fc1(x))\n",
    "        \n",
    "        # compute output layer\n",
    "        # no activation: cross entropy will compute softmax\n",
    "        x = self.fc2(x)\n",
    "        return x"
   ]
  },
  {
   "cell_type": "markdown",
   "id": "2a0416d7-57d6-4357-be32-1b799fe91b68",
   "metadata": {
    "tags": []
   },
   "source": [
    "#### Load Data"
   ]
  },
  {
   "cell_type": "code",
   "execution_count": 27,
   "id": "443736f2-7f1a-4053-beee-70d2ee0ee0b8",
   "metadata": {},
   "outputs": [],
   "source": [
    "d_train = du.DataLoader(JUND_Dataset('train_dataset'), batch_size=64, shuffle=True)\n",
    "train_features = next(iter(d_train))"
   ]
  }
 ],
 "metadata": {
  "kernelspec": {
   "display_name": "default:Python",
   "language": "python",
   "name": "conda-env-default-py"
  },
  "language_info": {
   "codemirror_mode": {
    "name": "ipython",
    "version": 3
   },
   "file_extension": ".py",
   "mimetype": "text/x-python",
   "name": "python",
   "nbconvert_exporter": "python",
   "pygments_lexer": "ipython3",
   "version": "3.9.7"
  }
 },
 "nbformat": 4,
 "nbformat_minor": 5
}
