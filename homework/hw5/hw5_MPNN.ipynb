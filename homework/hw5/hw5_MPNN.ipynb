{
 "cells": [
  {
   "cell_type": "markdown",
   "id": "edc35c26",
   "metadata": {},
   "source": [
    "#### Import Libraries"
   ]
  },
  {
   "cell_type": "code",
   "execution_count": 1,
   "id": "d869fae9-2484-443b-aad6-c784af421f65",
   "metadata": {},
   "outputs": [
    {
     "name": "stderr",
     "output_type": "stream",
     "text": [
      "Using backend: pytorch\n"
     ]
    },
    {
     "name": "stdout",
     "output_type": "stream",
     "text": [
      "RDKit is not installed, which is required for utils related to cheminformatics\n"
     ]
    }
   ],
   "source": [
    "import torch\n",
    "import torch.nn as nn\n",
    "import torch.nn.functional as F\n",
    "import torch.optim as optim\n",
    "import matplotlib.pyplot as plt\n",
    "import os\n",
    "import numpy as np\n",
    "import time\n",
    "from tqdm import tqdm\n",
    "from torch.utils import data\n",
    "from dgl.dataloading import GraphDataLoader\n",
    "from dgllife.model.gnn.mpnn import MPNNGNN\n",
    "import dgl\n",
    "from torch.utils.data import random_split"
   ]
  },
  {
   "cell_type": "markdown",
   "id": "27286c1b",
   "metadata": {},
   "source": [
    "#### Define Dataset"
   ]
  },
  {
   "cell_type": "code",
   "execution_count": 2,
   "id": "252513ed",
   "metadata": {},
   "outputs": [
    {
     "name": "stdout",
     "output_type": "stream",
     "text": [
      "Done loading data from cached files.\n"
     ]
    }
   ],
   "source": [
    "dataset = dgl.data.QM9EdgeDataset(label_keys=['mu'], raw_dir=\"./data\")\n",
    "data_len = len(dataset)"
   ]
  },
  {
   "cell_type": "markdown",
   "id": "dd0de84a",
   "metadata": {},
   "source": [
    "#### Define Model"
   ]
  },
  {
   "cell_type": "code",
   "execution_count": 3,
   "id": "eaa9d756",
   "metadata": {},
   "outputs": [],
   "source": [
    "class MPNN(nn.Module):\n",
    "    def __init__(self, n_in_feats, e_in_feats, n_o_feats, e_h_feats, hidden_dim, out_dim, d_prob=0.15):\n",
    "        super(MPNN, self).__init__()\n",
    "        self.mpnn1 = MPNNGNN(n_in_feats, e_in_feats, n_o_feats, e_h_feats)\n",
    "        # use the default node output feature 64\n",
    "        self.mpnn2 = MPNNGNN(n_o_feats, e_in_feats, n_o_feats, e_h_feats)\n",
    "        self.fc1 = nn.Linear(n_o_feats, hidden_dim)\n",
    "        self.fc2 = nn.Linear(hidden_dim, out_dim)\n",
    "\n",
    "        self.d_prob = d_prob\n",
    "    \n",
    "    def forward(self, g, n_in_feat, e_in_feat, pool_op):\n",
    "        h = self.mpnn1(g, n_in_feat, e_in_feat)\n",
    "        #h = F.relu(h)\n",
    "        h = self.mpnn2(g, h, e_in_feat)\n",
    "        g.ndata['h'] = h\n",
    "        o = dgl.readout_nodes(graph=g, feat='h', op=pool_op)\n",
    "\n",
    "        x = F.relu(self.fc1(o))\n",
    "        x = F.dropout(x, p=self.d_prob)\n",
    "        x = self.fc2(x)\n",
    "\n",
    "        return x"
   ]
  },
  {
   "cell_type": "markdown",
   "id": "956ba2b6",
   "metadata": {},
   "source": [
    "#### Training Code"
   ]
  },
  {
   "cell_type": "code",
   "execution_count": 4,
   "id": "3d1844e8",
   "metadata": {},
   "outputs": [],
   "source": [
    "def train(train_loader, epoch, model, optimizer, device, pool_op):\n",
    "    train_loss = 0.\n",
    "    for epoch in range(1, epoch+1):\n",
    "        sum_loss = 0.\n",
    "        for batched_graph, labels in tqdm(train_loader):\n",
    "            batched_graph, labels = batched_graph.to(device), labels.to(device)\n",
    "            pred = model(batched_graph, batched_graph.ndata['attr'].float(),\n",
    "                         batched_graph.edata['edge_attr'].float(), pool_op)\n",
    "            loss = F.l1_loss(pred, labels)\n",
    "            sum_loss += loss.item()\n",
    "            optimizer.zero_grad()\n",
    "            loss.backward()\n",
    "            optimizer.step()\n",
    "        \n",
    "        sum_loss /= len(train_loader)\n",
    "        #print(f'Epoch: {epoch}, Loss: {sum_loss:.6f}')\n",
    "        train_loss = sum_loss\n",
    "\n",
    "    return train_loss"
   ]
  },
  {
   "cell_type": "markdown",
   "id": "24146ec4",
   "metadata": {},
   "source": [
    "#### Validation and Testing Code"
   ]
  },
  {
   "cell_type": "code",
   "execution_count": 5,
   "id": "949fe894",
   "metadata": {},
   "outputs": [],
   "source": [
    "def valid_test(loader, model, device, pool_op):\n",
    "    final_loss = 0.\n",
    "    with torch.no_grad():\n",
    "        for batched_graph, labels in loader:\n",
    "            batched_graph, labels = batched_graph.to(device), labels.to(device)\n",
    "            pred = model(batched_graph, batched_graph.ndata['attr'].float(),\n",
    "                         batched_graph.edata['edge_attr'].float(), pool_op)\n",
    "            loss = F.l1_loss(pred, labels)\n",
    "            final_loss += loss.item()\n",
    "        \n",
    "        final_loss /= len(loader)\n",
    "        \n",
    "    return final_loss"
   ]
  },
  {
   "cell_type": "markdown",
   "id": "d8300c11",
   "metadata": {},
   "source": [
    "#### Setup Training"
   ]
  },
  {
   "cell_type": "code",
   "execution_count": 6,
   "id": "64b5d4b3",
   "metadata": {},
   "outputs": [
    {
     "name": "stdout",
     "output_type": "stream",
     "text": [
      "using device: cuda:0\n"
     ]
    }
   ],
   "source": [
    "device = f'cuda:0' if torch.cuda.is_available() else 'cpu'\n",
    "print(f\"using device: {device}\")\n",
    "# n_in_feats, e_in_feats, n_o_feats, e_h_feats, hidden_dim, out_dim\n",
    "n_in_feats = 11\n",
    "e_in_feats = 4\n",
    "n_o_feats = 64\n",
    "e_h_feats = 128\n",
    "hidden_dim = 128\n",
    "out_dim = 1\n",
    "d_prob = 0.15\n",
    "learning_rate = 0.01\n",
    "batch_size = 20\n",
    "epoch = 5\n",
    "pool_op = 'sum'\n",
    "models = []"
   ]
  },
  {
   "cell_type": "markdown",
   "id": "594f7078",
   "metadata": {},
   "source": [
    "#### Start Training, Validation"
   ]
  },
  {
   "cell_type": "code",
   "execution_count": 7,
   "id": "e6ba9a3f",
   "metadata": {
    "scrolled": false
   },
   "outputs": [
    {
     "name": "stderr",
     "output_type": "stream",
     "text": [
      "100%|██████████| 5234/5234 [05:13<00:00, 16.69it/s]\n",
      "100%|██████████| 5234/5234 [05:19<00:00, 16.39it/s]\n",
      "100%|██████████| 5234/5234 [05:10<00:00, 16.84it/s]\n",
      "100%|██████████| 5234/5234 [05:15<00:00, 16.58it/s]\n",
      "100%|██████████| 5234/5234 [05:13<00:00, 16.71it/s]"
     ]
    },
    {
     "name": "stdout",
     "output_type": "stream",
     "text": [
      "fold 1, train loss 1.124\n"
     ]
    },
    {
     "name": "stderr",
     "output_type": "stream",
     "text": [
      "\n",
      "  0%|          | 0/5234 [00:00<?, ?it/s]"
     ]
    },
    {
     "name": "stdout",
     "output_type": "stream",
     "text": [
      "fold 1, valid loss 1.156\n"
     ]
    },
    {
     "name": "stderr",
     "output_type": "stream",
     "text": [
      "100%|██████████| 5234/5234 [05:09<00:00, 16.92it/s]\n",
      "100%|██████████| 5234/5234 [04:42<00:00, 18.55it/s]\n",
      "100%|██████████| 5234/5234 [04:42<00:00, 18.54it/s]\n",
      "100%|██████████| 5234/5234 [04:41<00:00, 18.59it/s]\n",
      "100%|██████████| 5234/5234 [04:39<00:00, 18.74it/s]"
     ]
    },
    {
     "name": "stdout",
     "output_type": "stream",
     "text": [
      "fold 2, train loss 1.001\n"
     ]
    },
    {
     "name": "stderr",
     "output_type": "stream",
     "text": [
      "\n",
      "  0%|          | 0/5234 [00:00<?, ?it/s]"
     ]
    },
    {
     "name": "stdout",
     "output_type": "stream",
     "text": [
      "fold 2, valid loss 1.006\n"
     ]
    },
    {
     "name": "stderr",
     "output_type": "stream",
     "text": [
      "100%|██████████| 5234/5234 [04:44<00:00, 18.38it/s]\n",
      "100%|██████████| 5234/5234 [04:47<00:00, 18.22it/s]\n",
      "100%|██████████| 5234/5234 [04:40<00:00, 18.66it/s]\n",
      "100%|██████████| 5234/5234 [04:42<00:00, 18.51it/s]\n",
      "100%|██████████| 5234/5234 [04:42<00:00, 18.52it/s]"
     ]
    },
    {
     "name": "stdout",
     "output_type": "stream",
     "text": [
      "fold 3, train loss 1.162\n"
     ]
    },
    {
     "name": "stderr",
     "output_type": "stream",
     "text": [
      "\n",
      "  0%|          | 0/5234 [00:00<?, ?it/s]"
     ]
    },
    {
     "name": "stdout",
     "output_type": "stream",
     "text": [
      "fold 3, valid loss 1.145\n"
     ]
    },
    {
     "name": "stderr",
     "output_type": "stream",
     "text": [
      "100%|██████████| 5234/5234 [04:38<00:00, 18.80it/s]\n",
      "100%|██████████| 5234/5234 [04:41<00:00, 18.63it/s]\n",
      "100%|██████████| 5234/5234 [04:41<00:00, 18.60it/s]\n",
      "100%|██████████| 5234/5234 [04:41<00:00, 18.58it/s]\n",
      "100%|██████████| 5234/5234 [04:39<00:00, 18.73it/s]"
     ]
    },
    {
     "name": "stdout",
     "output_type": "stream",
     "text": [
      "fold 4, train loss 1.158\n"
     ]
    },
    {
     "name": "stderr",
     "output_type": "stream",
     "text": [
      "\n",
      "  0%|          | 0/5234 [00:00<?, ?it/s]"
     ]
    },
    {
     "name": "stdout",
     "output_type": "stream",
     "text": [
      "fold 4, valid loss 1.166\n"
     ]
    },
    {
     "name": "stderr",
     "output_type": "stream",
     "text": [
      "100%|██████████| 5234/5234 [04:46<00:00, 18.28it/s]\n",
      "100%|██████████| 5234/5234 [04:41<00:00, 18.59it/s]\n",
      "100%|██████████| 5234/5234 [04:45<00:00, 18.34it/s]\n",
      "100%|██████████| 5234/5234 [04:39<00:00, 18.72it/s]\n",
      "100%|██████████| 5234/5234 [04:44<00:00, 18.40it/s]"
     ]
    },
    {
     "name": "stdout",
     "output_type": "stream",
     "text": [
      "fold 5, train loss 1.014\n"
     ]
    },
    {
     "name": "stderr",
     "output_type": "stream",
     "text": [
      "\n"
     ]
    },
    {
     "name": "stdout",
     "output_type": "stream",
     "text": [
      "fold 5, valid loss 0.992\n",
      "average train loss is 1.092, std is 0.070\n",
      "average validation loss is 1.093, std is 0.077\n"
     ]
    }
   ],
   "source": [
    "# train_set, valid_set, test_set = random_split(dataset,\n",
    "#                             [int(data_len*0.8), int(data_len*0.1),\n",
    "#                             data_len-int(data_len*0.8)-int(data_len*0.1)])\n",
    "# model = MPNN(n_in_feats, e_in_feats, n_o_feats, e_h_feats, hidden_dim, out_dim)\n",
    "# optimizer = optim.Adam(model.parameters(), lr=learning_rate)\n",
    "# model = model.to(device)\n",
    "# train_loader = GraphDataLoader(dataset=train_set, batch_size=batch_size, shuffle=True, num_workers=8)\n",
    "# model.train()\n",
    "# train_loss = train(train_loader, epoch, model, optimizer, device, pool_op)\n",
    "# train_loss\n",
    "train_losses = []\n",
    "valid_losses = []\n",
    "test_sets = []\n",
    "test_losses = []\n",
    "for i in range(5):\n",
    "    train_set, valid_set, test_set = random_split(dataset,\n",
    "                            [int(data_len*0.8), int(data_len*0.1),\n",
    "                            data_len-int(data_len*0.8)-int(data_len*0.1)])\n",
    "    \n",
    "    model = MPNN(n_in_feats, e_in_feats, n_o_feats, e_h_feats, hidden_dim, out_dim, d_prob)\n",
    "    optimizer = optim.Adam(model.parameters(), lr=learning_rate)\n",
    "    model = model.to(device)\n",
    "    \n",
    "    train_loader = GraphDataLoader(dataset=train_set, batch_size=batch_size, shuffle=True, num_workers=8)\n",
    "    model.train()\n",
    "    train_loss = train(train_loader, epoch, model, optimizer, device, pool_op)\n",
    "    print('fold {}, train loss {:.3f}'.format(i+1, train_loss))\n",
    "    train_losses.append(train_loss)\n",
    "    \n",
    "    valid_loader = GraphDataLoader(dataset=valid_set, batch_size=batch_size, shuffle=True, num_workers=8)\n",
    "    model.eval()\n",
    "    valid_loss = valid_test(valid_loader, model, device, pool_op)\n",
    "    print('fold {}, valid loss {:.3f}'.format(i+1, valid_loss))\n",
    "    valid_losses.append(valid_loss)\n",
    "    \n",
    "    test_sets.append(test_set)\n",
    "    models.append(model)\n",
    "    \n",
    "print('average train loss is {:.3f}, std is {:.3f}'.format(np.mean(train_losses), np.std(train_losses)))\n",
    "print('average validation loss is {:.3f}, std is {:.3f}'.format(np.mean(valid_losses), np.std(valid_losses)))"
   ]
  },
  {
   "cell_type": "markdown",
   "id": "8f411ac8",
   "metadata": {},
   "source": [
    "#### Start Testing"
   ]
  },
  {
   "cell_type": "code",
   "execution_count": 8,
   "id": "33fab779",
   "metadata": {},
   "outputs": [
    {
     "name": "stdout",
     "output_type": "stream",
     "text": [
      "average test loss is 1.104, std is 0.078\n"
     ]
    }
   ],
   "source": [
    "for i in range(5):\n",
    "    test_loader = GraphDataLoader(dataset=test_sets[i], batch_size=batch_size, shuffle=True, num_workers=8)\n",
    "    test_loss = valid_test(test_loader, models[i], device, pool_op)\n",
    "    test_losses.append(test_loss)\n",
    "\n",
    "print('average test loss is {:.3f}, std is {:.3f}'.format(np.mean(test_losses), np.std(test_losses)))"
   ]
  }
 ],
 "metadata": {
  "kernelspec": {
   "display_name": "Python 3 (ipykernel)",
   "language": "python",
   "name": "python3"
  },
  "language_info": {
   "codemirror_mode": {
    "name": "ipython",
    "version": 3
   },
   "file_extension": ".py",
   "mimetype": "text/x-python",
   "name": "python",
   "nbconvert_exporter": "python",
   "pygments_lexer": "ipython3",
   "version": "3.7.7"
  }
 },
 "nbformat": 4,
 "nbformat_minor": 5
}
