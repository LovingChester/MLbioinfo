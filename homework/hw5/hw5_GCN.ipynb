{
 "cells": [
  {
   "cell_type": "markdown",
   "id": "d5c97255",
   "metadata": {},
   "source": [
    "#### Import Libraries"
   ]
  },
  {
   "cell_type": "code",
   "execution_count": 1,
   "id": "ebbfe0fd-c238-45c1-833b-5b70c0ca4185",
   "metadata": {},
   "outputs": [
    {
     "name": "stderr",
     "output_type": "stream",
     "text": [
      "Using backend: pytorch\n"
     ]
    }
   ],
   "source": [
    "import torch\n",
    "import torch.nn as nn\n",
    "import torch.nn.functional as F\n",
    "import torch.optim as optim\n",
    "import matplotlib.pyplot as plt\n",
    "import os\n",
    "import numpy as np\n",
    "import time\n",
    "from tqdm import tqdm\n",
    "from torch.utils import data\n",
    "import dgl\n",
    "import dgl.data\n",
    "from dgl.dataloading import GraphDataLoader\n",
    "from dgl.nn import GraphConv\n",
    "from torch.utils.data import random_split"
   ]
  },
  {
   "cell_type": "markdown",
   "id": "a6b33cf4",
   "metadata": {},
   "source": [
    "#### Define Dataset"
   ]
  },
  {
   "cell_type": "code",
   "execution_count": 2,
   "id": "0c60f15f",
   "metadata": {},
   "outputs": [
    {
     "name": "stdout",
     "output_type": "stream",
     "text": [
      "Done loading data from cached files.\n"
     ]
    }
   ],
   "source": [
    "dataset = dgl.data.QM9EdgeDataset(label_keys=['mu'], raw_dir=\"./data\")\n",
    "data_len = len(dataset)"
   ]
  },
  {
   "cell_type": "code",
   "execution_count": 3,
   "id": "a672bc06",
   "metadata": {},
   "outputs": [
    {
     "name": "stdout",
     "output_type": "stream",
     "text": [
      "Number of label: 1\n",
      "Graph(num_nodes=5, num_edges=8,\n",
      "      ndata_schemes={'pos': Scheme(shape=(3,), dtype=torch.float32), 'attr': Scheme(shape=(11,), dtype=torch.float32)}\n",
      "      edata_schemes={'edge_attr': Scheme(shape=(4,), dtype=torch.float32)})\n",
      "tensor([0.])\n",
      "Graph(num_nodes=4, num_edges=6,\n",
      "      ndata_schemes={'pos': Scheme(shape=(3,), dtype=torch.float32), 'attr': Scheme(shape=(11,), dtype=torch.float32)}\n",
      "      edata_schemes={'edge_attr': Scheme(shape=(4,), dtype=torch.float32)})\n",
      "tensor([1.6256])\n",
      "Graph(num_nodes=3, num_edges=4,\n",
      "      ndata_schemes={'pos': Scheme(shape=(3,), dtype=torch.float32), 'attr': Scheme(shape=(11,), dtype=torch.float32)}\n",
      "      edata_schemes={'edge_attr': Scheme(shape=(4,), dtype=torch.float32)})\n",
      "tensor([1.8511])\n",
      "Graph(num_nodes=4, num_edges=6,\n",
      "      ndata_schemes={'pos': Scheme(shape=(3,), dtype=torch.float32), 'attr': Scheme(shape=(11,), dtype=torch.float32)}\n",
      "      edata_schemes={'edge_attr': Scheme(shape=(4,), dtype=torch.float32)})\n",
      "tensor([0.])\n",
      "Graph(num_nodes=3, num_edges=4,\n",
      "      ndata_schemes={'pos': Scheme(shape=(3,), dtype=torch.float32), 'attr': Scheme(shape=(11,), dtype=torch.float32)}\n",
      "      edata_schemes={'edge_attr': Scheme(shape=(4,), dtype=torch.float32)})\n",
      "tensor([2.8937])\n",
      "Graph(num_nodes=4, num_edges=6,\n",
      "      ndata_schemes={'pos': Scheme(shape=(3,), dtype=torch.float32), 'attr': Scheme(shape=(11,), dtype=torch.float32)}\n",
      "      edata_schemes={'edge_attr': Scheme(shape=(4,), dtype=torch.float32)})\n",
      "tensor([2.1089])\n"
     ]
    }
   ],
   "source": [
    "print('Number of label:', dataset.num_labels)\n",
    "count = 0\n",
    "for graph, labels in dataset:\n",
    "    print(graph)  # get information of each graph\n",
    "    print(labels)  # get labels of the corresponding graph\n",
    "    if count == 5: break\n",
    "    count += 1\n"
   ]
  },
  {
   "cell_type": "markdown",
   "id": "b7fdaf4a",
   "metadata": {},
   "source": [
    "#### Define Model"
   ]
  },
  {
   "cell_type": "code",
   "execution_count": 4,
   "id": "4decae36",
   "metadata": {},
   "outputs": [],
   "source": [
    "class GCN(nn.Module):\n",
    "    def __init__(self, in_feats, h_feats, o_feats, hidden_dim, out_dim, d_prob=0.15):\n",
    "        super(GCN, self).__init__()\n",
    "        self.conv1 = GraphConv(in_feats, h_feats)\n",
    "        self.conv2 = GraphConv(h_feats, o_feats)\n",
    "        self.fc1 = nn.Linear(o_feats, hidden_dim)\n",
    "        self.fc2 = nn.Linear(hidden_dim, out_dim)\n",
    "\n",
    "        self.d_prob = d_prob\n",
    "    \n",
    "    def forward(self, g, in_feat, pool_op):\n",
    "        h = self.conv1(g, in_feat)\n",
    "        #h = F.relu(h)\n",
    "        h = self.conv2(g, h)\n",
    "        g.ndata['h'] = h\n",
    "        o = dgl.readout_nodes(graph=g, feat='h', op=pool_op)\n",
    "\n",
    "        x = F.relu(self.fc1(o))\n",
    "        x = F.dropout(x, p=self.d_prob)\n",
    "        x = self.fc2(x)\n",
    "\n",
    "        return x"
   ]
  },
  {
   "cell_type": "markdown",
   "id": "5331bc5b",
   "metadata": {},
   "source": [
    "#### Training Code"
   ]
  },
  {
   "cell_type": "code",
   "execution_count": 5,
   "id": "454c2590",
   "metadata": {},
   "outputs": [],
   "source": [
    "def train(train_loader, epoch, model, optimizer, device, pool_op):\n",
    "    train_loss = 0.\n",
    "    for epoch in range(1, epoch+1):\n",
    "        sum_loss = 0.\n",
    "        for batched_graph, labels in tqdm(train_loader):\n",
    "            batched_graph, labels = batched_graph.to(device), labels.to(device)\n",
    "            pred = model(batched_graph, batched_graph.ndata['attr'].float(), pool_op)\n",
    "            loss = F.l1_loss(pred, labels)\n",
    "            sum_loss += loss.item()\n",
    "            optimizer.zero_grad()\n",
    "            loss.backward()\n",
    "            optimizer.step()\n",
    "        \n",
    "        sum_loss /= len(train_loader)\n",
    "        #print(f'Epoch: {epoch}, Loss: {sum_loss:.6f}')\n",
    "        train_loss = sum_loss\n",
    "\n",
    "    return train_loss"
   ]
  },
  {
   "cell_type": "markdown",
   "id": "ff337ec2",
   "metadata": {},
   "source": [
    "#### Validation and Testing Code"
   ]
  },
  {
   "cell_type": "code",
   "execution_count": 6,
   "id": "d8455506",
   "metadata": {},
   "outputs": [],
   "source": [
    "def valid_test(loader, model, device, pool_op):\n",
    "    final_loss = 0.\n",
    "    with torch.no_grad():\n",
    "        for batched_graph, labels in loader:\n",
    "            batched_graph, labels = batched_graph.to(device), labels.to(device)\n",
    "            pred = model(batched_graph, batched_graph.ndata['attr'].float(), pool_op)\n",
    "            loss = F.l1_loss(pred, labels)\n",
    "            final_loss += loss.item()\n",
    "        \n",
    "        final_loss /= len(loader)\n",
    "        \n",
    "    return final_loss"
   ]
  },
  {
   "cell_type": "markdown",
   "id": "ee53f423",
   "metadata": {},
   "source": [
    "#### Set Up Training"
   ]
  },
  {
   "cell_type": "code",
   "execution_count": 7,
   "id": "6303a71f",
   "metadata": {},
   "outputs": [
    {
     "name": "stdout",
     "output_type": "stream",
     "text": [
      "using device: cuda:0\n"
     ]
    }
   ],
   "source": [
    "device = f'cuda:0' if torch.cuda.is_available() else 'cpu'\n",
    "print(f\"using device: {device}\")\n",
    "in_feats = 11\n",
    "h_feats = 128\n",
    "o_feats = 64\n",
    "hidden_dim = 128\n",
    "out_dim = 1\n",
    "d_prob = 0.15\n",
    "learning_rate = 0.01\n",
    "batch_size = 20\n",
    "epoch = 5\n",
    "pool_op = 'sum'\n",
    "models = []"
   ]
  },
  {
   "cell_type": "markdown",
   "id": "b5490cea",
   "metadata": {},
   "source": [
    "#### Start Training, Validation"
   ]
  },
  {
   "cell_type": "code",
   "execution_count": 8,
   "id": "4973552f",
   "metadata": {},
   "outputs": [
    {
     "name": "stderr",
     "output_type": "stream",
     "text": [
      "100%|██████████| 5234/5234 [01:09<00:00, 75.22it/s]\n",
      "100%|██████████| 5234/5234 [01:12<00:00, 72.63it/s]\n",
      "100%|██████████| 5234/5234 [01:09<00:00, 75.36it/s]\n",
      "100%|██████████| 5234/5234 [01:11<00:00, 72.84it/s]\n",
      "100%|██████████| 5234/5234 [01:20<00:00, 64.97it/s]"
     ]
    },
    {
     "name": "stdout",
     "output_type": "stream",
     "text": [
      "fold 1, train loss 1.158\n"
     ]
    },
    {
     "name": "stderr",
     "output_type": "stream",
     "text": [
      "\n",
      "  0%|          | 0/5234 [00:00<?, ?it/s]"
     ]
    },
    {
     "name": "stdout",
     "output_type": "stream",
     "text": [
      "fold 1, valid loss 1.170\n"
     ]
    },
    {
     "name": "stderr",
     "output_type": "stream",
     "text": [
      "100%|██████████| 5234/5234 [01:24<00:00, 61.79it/s]\n",
      "100%|██████████| 5234/5234 [01:27<00:00, 60.11it/s]\n",
      "100%|██████████| 5234/5234 [01:25<00:00, 61.33it/s]\n",
      "100%|██████████| 5234/5234 [01:23<00:00, 62.45it/s]\n",
      "100%|██████████| 5234/5234 [01:25<00:00, 61.04it/s]"
     ]
    },
    {
     "name": "stdout",
     "output_type": "stream",
     "text": [
      "fold 2, train loss 1.160\n"
     ]
    },
    {
     "name": "stderr",
     "output_type": "stream",
     "text": [
      "\n",
      "  0%|          | 0/5234 [00:00<?, ?it/s]"
     ]
    },
    {
     "name": "stdout",
     "output_type": "stream",
     "text": [
      "fold 2, valid loss 1.152\n"
     ]
    },
    {
     "name": "stderr",
     "output_type": "stream",
     "text": [
      "100%|██████████| 5234/5234 [01:25<00:00, 61.19it/s]\n",
      "100%|██████████| 5234/5234 [01:21<00:00, 64.04it/s]\n",
      "100%|██████████| 5234/5234 [01:23<00:00, 63.02it/s]\n",
      "100%|██████████| 5234/5234 [01:26<00:00, 60.82it/s]\n",
      "100%|██████████| 5234/5234 [01:25<00:00, 61.29it/s]"
     ]
    },
    {
     "name": "stdout",
     "output_type": "stream",
     "text": [
      "fold 3, train loss 1.160\n"
     ]
    },
    {
     "name": "stderr",
     "output_type": "stream",
     "text": [
      "\n",
      "  0%|          | 0/5234 [00:00<?, ?it/s]"
     ]
    },
    {
     "name": "stdout",
     "output_type": "stream",
     "text": [
      "fold 3, valid loss 1.161\n"
     ]
    },
    {
     "name": "stderr",
     "output_type": "stream",
     "text": [
      "100%|██████████| 5234/5234 [01:25<00:00, 61.44it/s]\n",
      "100%|██████████| 5234/5234 [01:23<00:00, 62.54it/s]\n",
      "100%|██████████| 5234/5234 [01:24<00:00, 62.17it/s]\n",
      "100%|██████████| 5234/5234 [01:23<00:00, 62.76it/s]\n",
      "100%|██████████| 5234/5234 [01:27<00:00, 59.79it/s]"
     ]
    },
    {
     "name": "stdout",
     "output_type": "stream",
     "text": [
      "fold 4, train loss 1.159\n"
     ]
    },
    {
     "name": "stderr",
     "output_type": "stream",
     "text": [
      "\n",
      "  0%|          | 0/5234 [00:00<?, ?it/s]"
     ]
    },
    {
     "name": "stdout",
     "output_type": "stream",
     "text": [
      "fold 4, valid loss 1.158\n"
     ]
    },
    {
     "name": "stderr",
     "output_type": "stream",
     "text": [
      "100%|██████████| 5234/5234 [01:25<00:00, 60.87it/s]\n",
      "100%|██████████| 5234/5234 [01:26<00:00, 60.73it/s]\n",
      "100%|██████████| 5234/5234 [01:26<00:00, 60.82it/s]\n",
      "100%|██████████| 5234/5234 [01:24<00:00, 62.30it/s]\n",
      "100%|██████████| 5234/5234 [01:22<00:00, 63.35it/s]"
     ]
    },
    {
     "name": "stdout",
     "output_type": "stream",
     "text": [
      "fold 5, train loss 1.161\n"
     ]
    },
    {
     "name": "stderr",
     "output_type": "stream",
     "text": [
      "\n"
     ]
    },
    {
     "name": "stdout",
     "output_type": "stream",
     "text": [
      "fold 5, valid loss 1.150\n",
      "average train loss is 1.160, std is 0.001\n",
      "average validation loss is 1.158, std is 0.007\n"
     ]
    }
   ],
   "source": [
    "train_losses = []\n",
    "valid_losses = []\n",
    "test_sets = []\n",
    "test_losses = []\n",
    "for i in range(5):\n",
    "    train_set, valid_set, test_set = random_split(dataset,\n",
    "                            [int(data_len*0.8), int(data_len*0.1),\n",
    "                            data_len-int(data_len*0.8)-int(data_len*0.1)])\n",
    "    \n",
    "    model = GCN(in_feats, h_feats, o_feats, hidden_dim, out_dim, d_prob)\n",
    "    optimizer = optim.Adam(model.parameters(), lr=learning_rate)\n",
    "    model = model.to(device)\n",
    "    \n",
    "    train_loader = GraphDataLoader(dataset=train_set, batch_size=batch_size, shuffle=True, num_workers=8)\n",
    "    model.train()\n",
    "    train_loss = train(train_loader, epoch, model, optimizer, device, pool_op)\n",
    "    print('fold {}, train loss {:.3f}'.format(i+1, train_loss))\n",
    "    train_losses.append(train_loss)\n",
    "    \n",
    "    valid_loader = GraphDataLoader(dataset=valid_set, batch_size=batch_size, shuffle=True, num_workers=8)\n",
    "    model.eval()\n",
    "    valid_loss = valid_test(valid_loader, model, device, pool_op)\n",
    "    print('fold {}, valid loss {:.3f}'.format(i+1, valid_loss))\n",
    "    valid_losses.append(valid_loss)\n",
    "    \n",
    "    test_sets.append(test_set)\n",
    "    models.append(model)\n",
    "    \n",
    "print('average train loss is {:.3f}, std is {:.3f}'.format(np.mean(train_losses), np.std(train_losses)))\n",
    "print('average validation loss is {:.3f}, std is {:.3f}'.format(np.mean(valid_losses), np.std(valid_losses)))"
   ]
  },
  {
   "cell_type": "markdown",
   "id": "b711e203",
   "metadata": {},
   "source": [
    "#### Start Testing"
   ]
  },
  {
   "cell_type": "code",
   "execution_count": 9,
   "id": "7abadbeb",
   "metadata": {},
   "outputs": [
    {
     "name": "stdout",
     "output_type": "stream",
     "text": [
      "average test loss is 1.164, std is 0.005\n"
     ]
    }
   ],
   "source": [
    "for i in range(5):\n",
    "    test_loader = GraphDataLoader(dataset=test_sets[i], batch_size=batch_size, shuffle=True, num_workers=8)\n",
    "    test_loss = valid_test(test_loader, models[i], device, pool_op)\n",
    "    test_losses.append(test_loss)\n",
    "\n",
    "print('average test loss is {:.3f}, std is {:.3f}'.format(np.mean(test_losses), np.std(test_losses)))"
   ]
  }
 ],
 "metadata": {
  "kernelspec": {
   "display_name": "Python 3 (ipykernel)",
   "language": "python",
   "name": "python3"
  },
  "language_info": {
   "codemirror_mode": {
    "name": "ipython",
    "version": 3
   },
   "file_extension": ".py",
   "mimetype": "text/x-python",
   "name": "python",
   "nbconvert_exporter": "python",
   "pygments_lexer": "ipython3",
   "version": "3.7.7"
  }
 },
 "nbformat": 4,
 "nbformat_minor": 5
}
